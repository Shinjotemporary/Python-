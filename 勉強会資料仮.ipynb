{
 "cells": [
  {
   "cell_type": "markdown",
   "metadata": {},
   "source": [
    "# Python勉強会"
   ]
  },
  {
   "cell_type": "markdown",
   "metadata": {},
   "source": [
    "### 目次<a id='top'></a>\n",
    "1. [Pythonとは](#sec1)  \n",
    "2. [勉強会の目標](#sec2)  \n",
    "3. [データ加工編:Pandas](#sec4)  \n",
    "    1. [その1成績データを読み込んでみよう！](#sec4_1)  \n",
    "    2. [その2-1 データの特徴を把握しよう！](#sec4_2_1)  \n",
    "    2. [その2-2 データの特徴を把握しよう！](#sec4_2_2)  \n",
    "    3. [その3 カラムの名前を変更してみよう！](#sec4_3)  \n",
    "    4. [その4 特定の列だけを取り出してみよう！](#sec4_4)  \n",
    "    [DataFrameとSeries](#sec4_7)  \n",
    "    5. [その5 列を統合させてみよう！](#sec4_6)  \n",
    "    6. [その6 散布図を描いてみよう！](#sec4_7)  \n",
    "    [余談・相関係数を求めてみる](#sec4_8)  \n",
    "4. [コラム１](#col1)\n",
    "5. [Python基礎文法](#sec5)  \n",
    "    1. [その0 基本的な計算をしてみよう！](#sec5_0)  \n",
    "    2. [その1 データを収納する方法について整理しよう！](#sec5_1)  \n",
    "    3. [その2 リストを作成してみよう！](#sec5_2)  \n",
    "    4. [その3 ディクショナリを作成してみよう！](#sec5_3)  \n",
    "    5. [その4 集合を作成してみよう！](#sec5_4)\n",
    "    6. [その5 タプルを作成してみよう！](#sec5_5)\n",
    "6. [Python文法](#sec6)\n",
    "    1. [for文](#sec6_1)\n",
    "    2. [range文](#sec6_2)\n",
    "    3. [if文](#sec6_3)\n",
    "    4. [def文](#sec6_4)\n",
    "    5. [while文](#sec6_5)"
   ]
  },
  {
   "cell_type": "markdown",
   "metadata": {},
   "source": [
    "## １. Pythonとは<a id='sec1'></a>"
   ]
  },
  {
   "cell_type": "markdown",
   "metadata": {},
   "source": [
    "　**Pythonは現在、特に人気のあるプログラミング言語です。** Pythonは簡単な文法構造を特徴をしています。その扱いやすさから、人工知能(AI)の開発から、webアプリケーションを作成までといったように、広範に活用されています。そんなPythonを知らないのはもったいない！！\n",
    "<br> ここで、Pythonを身近に感じてもらうために、具体的な事例をいくつか挙げてみます。"
   ]
  },
  {
   "cell_type": "markdown",
   "metadata": {},
   "source": [
    "　1つ目に挙げるのは、ソフトバンクが開発した人工知能ロボット「Pepper(ペッパー)」君。彼の人工知能には、Pythonが用いられていると言われています。次に考えられるのは、皆さん大好き、[Instagram]。特に意味もなく、インスタを開いてしまっていることありますよね...。\n",
    " InstagramはPythonの、Djangoというwebアプリケーションフレームワークで作成されています！また、大学生の敵(味方？)、YoutubeにもPythonが活用されています。実は、Pythonは本当に身近な言語なのです！  \n",
    "　Pythonを直接\"見る\"機会は日常でもほとんどありませんが、みなさんも毎日Pythonの恩恵を与っているのです！"
   ]
  },
  {
   "cell_type": "markdown",
   "metadata": {},
   "source": [
    "ここで、Pythonの得意分野について整理します！\n",
    "1. **AI(人工知能)・機械学習**  \n",
    "Pythonには、AIや機械学習に特化したライブラリ(後で詳しく説明します)がたくさんあります！これによって、機械学習をとても簡単に行うことができます。\n",
    "2. **データ分析**  \n",
    "今回の勉強会は、このデータ分析に焦点を当てています。データの特徴を把握したり、データを整理するのにPythonは最適です。また、スクレイピングという技術を用いれば、自動的にデータの抽出を行うことができます。"
   ]
  },
  {
   "cell_type": "markdown",
   "metadata": {},
   "source": [
    "Pythonにはライブラリというものがあります。これは、先人たちが残してくれた、偉大な知識です。Pythonを数学に例えるならば、ライブラリは「公式」だと考えられます。皆さんは、二次方程式の解を求める際に、解の公式を用いてきました。この式に数値を放り込むだけで、容易に答えを得ることができたと思います。ライブラリはこれと同じです。はじめから公式を作成しているのでは、時間がかかって作業が一向に進みません。そこで、このライブラリを用いることで、効率的な作業が可能になるのです。"
   ]
  },
  {
   "cell_type": "markdown",
   "metadata": {},
   "source": [
    "　最後にPyhtonとRの差について述べます。データ分析を行うプログラミング言語としてPythonとともにRがよく知られていますが、PythonとRでは、何が違うのでしょうか。まず、Pythonは汎用的なプログラミング言語であり、Rはデータ解析に特化しています。データ分析に関してはどちらも同じような性能を有しています。しかし、AIのような機械学習・DeepLearningの領域になると、Pythonの方が充実しています。また、Pythonの絶大な支持もPythonに軍配が上がります。人気があるということは、それだけ学習コンテンツや、開発が盛んであるということです。勉強のしやすさや将来の発展性を考えると、Pythonをおすすめします。とはいえ、Rは学術界でとても人気な言語であることは確かです。一度Pythonを理解すると、Rの理解も早まります。Rを使いたい人も、この機会にPythonを触ってみましょう！"
   ]
  },
  {
   "cell_type": "markdown",
   "metadata": {},
   "source": [
    "## 2：勉強会の目標<a id='sec2'></a>"
   ]
  },
  {
   "cell_type": "markdown",
   "metadata": {},
   "source": [
    " **Pythonを面白い！と感じてもらう。**\n",
    "　Pythonに触れたことがない方にも、Pythonの魅力を感じていただければ、この勉強会の目標は達成です。ですので、わからない箇所があっても気にせずPythonを動かしてみてほしいなと思います！！"
   ]
  },
  {
   "cell_type": "markdown",
   "metadata": {},
   "source": [
    "## ３：実装<a id='sec3'></a>"
   ]
  },
  {
   "cell_type": "markdown",
   "metadata": {},
   "source": [
    "「習うより慣れよ」です！！　それでは、実際にPythonを動かしてみましょう！！  \n",
    "ここからは、実際のデータを操作しながら、必要に応じて解説していきます。"
   ]
  },
  {
   "cell_type": "markdown",
   "metadata": {},
   "source": [
    "## 第一章　データ加工編 Pandas<a id='sec4'></a>"
   ]
  },
  {
   "cell_type": "markdown",
   "metadata": {},
   "source": [
    "**その１**<a id='sec4_1'></a>  \n",
    "**成績データを読み込んでみよう！**  \n",
    "[先頭に戻る](#top)  \n",
    "資料サイト(https://statistics.co.jp/reference/statistical_data/statistical_data.htm)"
   ]
  },
  {
   "cell_type": "code",
   "execution_count": null,
   "metadata": {},
   "outputs": [],
   "source": [
    "#先ほど説明した、ライブラリ(pandas,numpy)を読み込みます！\n",
    "import pandas as pd\n",
    "import numpy as np"
   ]
  },
  {
   "cell_type": "code",
   "execution_count": 2,
   "metadata": {},
   "outputs": [
    {
     "data": {
      "text/html": [
       "<div>\n",
       "<style scoped>\n",
       "    .dataframe tbody tr th:only-of-type {\n",
       "        vertical-align: middle;\n",
       "    }\n",
       "\n",
       "    .dataframe tbody tr th {\n",
       "        vertical-align: top;\n",
       "    }\n",
       "\n",
       "    .dataframe thead th {\n",
       "        text-align: right;\n",
       "    }\n",
       "</style>\n",
       "<table border=\"1\" class=\"dataframe\">\n",
       "  <thead>\n",
       "    <tr style=\"text-align: right;\">\n",
       "      <th></th>\n",
       "      <th>kokugo</th>\n",
       "      <th>shakai</th>\n",
       "      <th>sugaku</th>\n",
       "      <th>rika</th>\n",
       "      <th>ongaku</th>\n",
       "      <th>bijutu</th>\n",
       "      <th>taiiku</th>\n",
       "      <th>gika</th>\n",
       "      <th>eigo</th>\n",
       "    </tr>\n",
       "  </thead>\n",
       "  <tbody>\n",
       "    <tr>\n",
       "      <th>0</th>\n",
       "      <td>30</td>\n",
       "      <td>43</td>\n",
       "      <td>51</td>\n",
       "      <td>63</td>\n",
       "      <td>60</td>\n",
       "      <td>66</td>\n",
       "      <td>37</td>\n",
       "      <td>44</td>\n",
       "      <td>20</td>\n",
       "    </tr>\n",
       "    <tr>\n",
       "      <th>1</th>\n",
       "      <td>39</td>\n",
       "      <td>21</td>\n",
       "      <td>49</td>\n",
       "      <td>56</td>\n",
       "      <td>70</td>\n",
       "      <td>72</td>\n",
       "      <td>56</td>\n",
       "      <td>63</td>\n",
       "      <td>16</td>\n",
       "    </tr>\n",
       "    <tr>\n",
       "      <th>2</th>\n",
       "      <td>29</td>\n",
       "      <td>30</td>\n",
       "      <td>23</td>\n",
       "      <td>57</td>\n",
       "      <td>69</td>\n",
       "      <td>76</td>\n",
       "      <td>33</td>\n",
       "      <td>54</td>\n",
       "      <td>6</td>\n",
       "    </tr>\n",
       "    <tr>\n",
       "      <th>3</th>\n",
       "      <td>95</td>\n",
       "      <td>87</td>\n",
       "      <td>77</td>\n",
       "      <td>100</td>\n",
       "      <td>77</td>\n",
       "      <td>82</td>\n",
       "      <td>78</td>\n",
       "      <td>96</td>\n",
       "      <td>87</td>\n",
       "    </tr>\n",
       "    <tr>\n",
       "      <th>4</th>\n",
       "      <td>70</td>\n",
       "      <td>71</td>\n",
       "      <td>78</td>\n",
       "      <td>67</td>\n",
       "      <td>72</td>\n",
       "      <td>82</td>\n",
       "      <td>46</td>\n",
       "      <td>63</td>\n",
       "      <td>44</td>\n",
       "    </tr>\n",
       "  </tbody>\n",
       "</table>\n",
       "</div>"
      ],
      "text/plain": [
       "   kokugo  shakai  sugaku  rika  ongaku  bijutu  taiiku  gika  eigo\n",
       "0      30      43      51    63      60      66      37    44    20\n",
       "1      39      21      49    56      70      72      56    63    16\n",
       "2      29      30      23    57      69      76      33    54     6\n",
       "3      95      87      77   100      77      82      78    96    87\n",
       "4      70      71      78    67      72      82      46    63    44"
      ]
     },
     "execution_count": 2,
     "metadata": {},
     "output_type": "execute_result"
    }
   ],
   "source": [
    "df = pd.read_csv(\"seiseki.csv\")\n",
    "df.head()"
   ]
  },
  {
   "cell_type": "markdown",
   "metadata": {},
   "source": [
    "実際にデータが読み込めたのを確認できます！　まだ何もしていませんが、どことなく感動しませんか？？\n",
    "<p>次はこのデータの特徴を把握しましょう！"
   ]
  },
  {
   "cell_type": "markdown",
   "metadata": {},
   "source": [
    "**その2-1** **データの特徴を把握しよう！**<a id='sec4_2_1'></a>  \n",
    "[先頭に戻る](#top)"
   ]
  },
  {
   "cell_type": "markdown",
   "metadata": {},
   "source": [
    "データを入手して、第一に行う必要があるのは、データに不備がないかの確認です。\n",
    "<p>特に、自作したExcelファイルを使用する際などは、データに欠損値などの不備が生じている可能性があります。そのデータで分析すると、今までの苦労が無駄に...！なんてこともあるかもしれません。そこで、第一にデータの確認が重要です。"
   ]
  },
  {
   "cell_type": "code",
   "execution_count": 3,
   "metadata": {},
   "outputs": [
    {
     "data": {
      "text/plain": [
       "pandas.core.frame.DataFrame"
      ]
     },
     "execution_count": 3,
     "metadata": {},
     "output_type": "execute_result"
    }
   ],
   "source": [
    "type(df)"
   ]
  },
  {
   "cell_type": "markdown",
   "metadata": {},
   "source": [
    "　type()関数を用いると、オブジェクトの型を把握することができます！出力された最後の、DataFrameという一文が重要です。<p>DataFrameはpandas最大の武器です。パンダスはこれを使うためにあると言っても過言ではないでしょう。\n",
    "<p>さらにデータフレームには、より便利な情報習得関数が提供されています。それがdf.info()です。"
   ]
  },
  {
   "cell_type": "code",
   "execution_count": 4,
   "metadata": {},
   "outputs": [
    {
     "name": "stdout",
     "output_type": "stream",
     "text": [
      "<class 'pandas.core.frame.DataFrame'>\n",
      "RangeIndex: 166 entries, 0 to 165\n",
      "Data columns (total 9 columns):\n",
      " #   Column  Non-Null Count  Dtype\n",
      "---  ------  --------------  -----\n",
      " 0   kokugo  166 non-null    int64\n",
      " 1   shakai  166 non-null    int64\n",
      " 2   sugaku  166 non-null    int64\n",
      " 3   rika    166 non-null    int64\n",
      " 4   ongaku  166 non-null    int64\n",
      " 5   bijutu  166 non-null    int64\n",
      " 6   taiiku  166 non-null    int64\n",
      " 7   gika    166 non-null    int64\n",
      " 8   eigo    166 non-null    int64\n",
      "dtypes: int64(9)\n",
      "memory usage: 11.8 KB\n"
     ]
    }
   ],
   "source": [
    "df.info()"
   ]
  },
  {
   "cell_type": "markdown",
   "metadata": {},
   "source": [
    "なにやら、訳の分からない言語がたくさん出てきた、、。　と思った人！！  \n",
    "大丈夫です。知っていれば理解できます。  \n",
    "1. Column(カラム)とは、列のことです。ですので、列が一覧となって出力されています。  \n",
    "2. Non-Null Countとは、欠損値でない数のことです。データに不備があると、正しくデータの分析が行えません。そこで、まず初めにデータに不備がないかinfo関数を用いて確認することが大事です。  \n",
    "3. Dtypeとは、DataFrameに収納されている文字の種類のことです。int64とは整数を表します。実際、データフレームが整数のみで構成されているのが確認できますね！　文字の種類を確認しておけば、あらかじめエラーが発生することを防ぐことができます。"
   ]
  },
  {
   "cell_type": "markdown",
   "metadata": {},
   "source": [
    "**その2-2**　**データの特徴を把握しよう！**<a id='sec4_2_2'></a>  \n",
    "[先頭に戻る](#top)"
   ]
  },
  {
   "cell_type": "markdown",
   "metadata": {},
   "source": [
    "　先程は、どうやらこのデータには不備がないらしいということが確認できました。  \n",
    "その次に、データの平均値や分布の散らばり(分散)について知りたくないですか？？  \n",
    "皆さま朗報です。pandasではなんと一行ですべてが把握できます。"
   ]
  },
  {
   "cell_type": "code",
   "execution_count": 65,
   "metadata": {},
   "outputs": [
    {
     "data": {
      "text/html": [
       "<div>\n",
       "<style scoped>\n",
       "    .dataframe tbody tr th:only-of-type {\n",
       "        vertical-align: middle;\n",
       "    }\n",
       "\n",
       "    .dataframe tbody tr th {\n",
       "        vertical-align: top;\n",
       "    }\n",
       "\n",
       "    .dataframe thead th {\n",
       "        text-align: right;\n",
       "    }\n",
       "</style>\n",
       "<table border=\"1\" class=\"dataframe\">\n",
       "  <thead>\n",
       "    <tr style=\"text-align: right;\">\n",
       "      <th></th>\n",
       "      <th>国語</th>\n",
       "      <th>社会</th>\n",
       "      <th>数学</th>\n",
       "      <th>理科</th>\n",
       "      <th>ongaku</th>\n",
       "      <th>bijutu</th>\n",
       "      <th>taiiku</th>\n",
       "      <th>gika</th>\n",
       "      <th>英語</th>\n",
       "      <th>理系</th>\n",
       "      <th>文系</th>\n",
       "      <th>two</th>\n",
       "      <th>three</th>\n",
       "      <th>理系平均</th>\n",
       "      <th>文系平均</th>\n",
       "    </tr>\n",
       "  </thead>\n",
       "  <tbody>\n",
       "    <tr>\n",
       "      <th>count</th>\n",
       "      <td>166.000000</td>\n",
       "      <td>166.000000</td>\n",
       "      <td>166.000000</td>\n",
       "      <td>166.000000</td>\n",
       "      <td>166.000000</td>\n",
       "      <td>166.000000</td>\n",
       "      <td>166.000000</td>\n",
       "      <td>166.000000</td>\n",
       "      <td>166.000000</td>\n",
       "      <td>166.000000</td>\n",
       "      <td>166.000000</td>\n",
       "      <td>166.0</td>\n",
       "      <td>166.0</td>\n",
       "      <td>166.000000</td>\n",
       "      <td>166.000000</td>\n",
       "    </tr>\n",
       "    <tr>\n",
       "      <th>mean</th>\n",
       "      <td>52.331325</td>\n",
       "      <td>39.602410</td>\n",
       "      <td>45.614458</td>\n",
       "      <td>49.885542</td>\n",
       "      <td>42.331325</td>\n",
       "      <td>62.457831</td>\n",
       "      <td>57.740964</td>\n",
       "      <td>47.307229</td>\n",
       "      <td>39.084337</td>\n",
       "      <td>95.500000</td>\n",
       "      <td>131.018072</td>\n",
       "      <td>2.0</td>\n",
       "      <td>3.0</td>\n",
       "      <td>47.750000</td>\n",
       "      <td>43.672691</td>\n",
       "    </tr>\n",
       "    <tr>\n",
       "      <th>std</th>\n",
       "      <td>21.835858</td>\n",
       "      <td>21.456335</td>\n",
       "      <td>24.236127</td>\n",
       "      <td>21.408130</td>\n",
       "      <td>22.894855</td>\n",
       "      <td>17.188298</td>\n",
       "      <td>26.577943</td>\n",
       "      <td>22.519397</td>\n",
       "      <td>29.507351</td>\n",
       "      <td>43.525646</td>\n",
       "      <td>67.227562</td>\n",
       "      <td>0.0</td>\n",
       "      <td>0.0</td>\n",
       "      <td>21.762823</td>\n",
       "      <td>22.409187</td>\n",
       "    </tr>\n",
       "    <tr>\n",
       "      <th>min</th>\n",
       "      <td>0.000000</td>\n",
       "      <td>4.000000</td>\n",
       "      <td>0.000000</td>\n",
       "      <td>9.000000</td>\n",
       "      <td>2.000000</td>\n",
       "      <td>15.000000</td>\n",
       "      <td>2.000000</td>\n",
       "      <td>2.000000</td>\n",
       "      <td>0.000000</td>\n",
       "      <td>11.000000</td>\n",
       "      <td>9.000000</td>\n",
       "      <td>2.0</td>\n",
       "      <td>3.0</td>\n",
       "      <td>5.500000</td>\n",
       "      <td>3.000000</td>\n",
       "    </tr>\n",
       "    <tr>\n",
       "      <th>25%</th>\n",
       "      <td>35.000000</td>\n",
       "      <td>23.000000</td>\n",
       "      <td>28.000000</td>\n",
       "      <td>31.000000</td>\n",
       "      <td>25.250000</td>\n",
       "      <td>52.000000</td>\n",
       "      <td>35.250000</td>\n",
       "      <td>31.250000</td>\n",
       "      <td>12.000000</td>\n",
       "      <td>58.250000</td>\n",
       "      <td>76.250000</td>\n",
       "      <td>2.0</td>\n",
       "      <td>3.0</td>\n",
       "      <td>29.125000</td>\n",
       "      <td>25.416667</td>\n",
       "    </tr>\n",
       "    <tr>\n",
       "      <th>50%</th>\n",
       "      <td>53.000000</td>\n",
       "      <td>35.000000</td>\n",
       "      <td>43.000000</td>\n",
       "      <td>49.000000</td>\n",
       "      <td>41.500000</td>\n",
       "      <td>65.000000</td>\n",
       "      <td>60.000000</td>\n",
       "      <td>48.500000</td>\n",
       "      <td>35.000000</td>\n",
       "      <td>92.500000</td>\n",
       "      <td>126.000000</td>\n",
       "      <td>2.0</td>\n",
       "      <td>3.0</td>\n",
       "      <td>46.250000</td>\n",
       "      <td>42.000000</td>\n",
       "    </tr>\n",
       "    <tr>\n",
       "      <th>75%</th>\n",
       "      <td>70.000000</td>\n",
       "      <td>53.750000</td>\n",
       "      <td>63.750000</td>\n",
       "      <td>65.750000</td>\n",
       "      <td>58.750000</td>\n",
       "      <td>75.750000</td>\n",
       "      <td>82.000000</td>\n",
       "      <td>65.000000</td>\n",
       "      <td>66.750000</td>\n",
       "      <td>129.000000</td>\n",
       "      <td>184.250000</td>\n",
       "      <td>2.0</td>\n",
       "      <td>3.0</td>\n",
       "      <td>64.500000</td>\n",
       "      <td>61.416667</td>\n",
       "    </tr>\n",
       "    <tr>\n",
       "      <th>max</th>\n",
       "      <td>96.000000</td>\n",
       "      <td>90.000000</td>\n",
       "      <td>100.000000</td>\n",
       "      <td>100.000000</td>\n",
       "      <td>96.000000</td>\n",
       "      <td>99.000000</td>\n",
       "      <td>99.000000</td>\n",
       "      <td>100.000000</td>\n",
       "      <td>99.000000</td>\n",
       "      <td>190.000000</td>\n",
       "      <td>269.000000</td>\n",
       "      <td>2.0</td>\n",
       "      <td>3.0</td>\n",
       "      <td>95.000000</td>\n",
       "      <td>89.666667</td>\n",
       "    </tr>\n",
       "  </tbody>\n",
       "</table>\n",
       "</div>"
      ],
      "text/plain": [
       "               国語          社会          数学          理科      ongaku      bijutu  \\\n",
       "count  166.000000  166.000000  166.000000  166.000000  166.000000  166.000000   \n",
       "mean    52.331325   39.602410   45.614458   49.885542   42.331325   62.457831   \n",
       "std     21.835858   21.456335   24.236127   21.408130   22.894855   17.188298   \n",
       "min      0.000000    4.000000    0.000000    9.000000    2.000000   15.000000   \n",
       "25%     35.000000   23.000000   28.000000   31.000000   25.250000   52.000000   \n",
       "50%     53.000000   35.000000   43.000000   49.000000   41.500000   65.000000   \n",
       "75%     70.000000   53.750000   63.750000   65.750000   58.750000   75.750000   \n",
       "max     96.000000   90.000000  100.000000  100.000000   96.000000   99.000000   \n",
       "\n",
       "           taiiku        gika          英語          理系          文系    two  \\\n",
       "count  166.000000  166.000000  166.000000  166.000000  166.000000  166.0   \n",
       "mean    57.740964   47.307229   39.084337   95.500000  131.018072    2.0   \n",
       "std     26.577943   22.519397   29.507351   43.525646   67.227562    0.0   \n",
       "min      2.000000    2.000000    0.000000   11.000000    9.000000    2.0   \n",
       "25%     35.250000   31.250000   12.000000   58.250000   76.250000    2.0   \n",
       "50%     60.000000   48.500000   35.000000   92.500000  126.000000    2.0   \n",
       "75%     82.000000   65.000000   66.750000  129.000000  184.250000    2.0   \n",
       "max     99.000000  100.000000   99.000000  190.000000  269.000000    2.0   \n",
       "\n",
       "       three        理系平均        文系平均  \n",
       "count  166.0  166.000000  166.000000  \n",
       "mean     3.0   47.750000   43.672691  \n",
       "std      0.0   21.762823   22.409187  \n",
       "min      3.0    5.500000    3.000000  \n",
       "25%      3.0   29.125000   25.416667  \n",
       "50%      3.0   46.250000   42.000000  \n",
       "75%      3.0   64.500000   61.416667  \n",
       "max      3.0   95.000000   89.666667  "
      ]
     },
     "execution_count": 65,
     "metadata": {},
     "output_type": "execute_result"
    }
   ],
   "source": [
    "df.describe()"
   ]
  },
  {
   "cell_type": "markdown",
   "metadata": {},
   "source": [
    "これを知ってしまうと、とてもではないですが、手作業で平均値を求めてられないですね...。とっても便利です。"
   ]
  },
  {
   "cell_type": "markdown",
   "metadata": {},
   "source": [
    "**その3** **カラムの名前を変更してみよう！**<a id='sec4_3'></a>  \n",
    "[先頭に戻る](#top)"
   ]
  },
  {
   "cell_type": "markdown",
   "metadata": {},
   "source": [
    "列名(columns)の変更は、  \n",
    "**df.rename(columns={\"元の名前\":\"新しい名前\"}**  \n",
    "で完成です！！さっそく五教科のみ変更してみましょう！"
   ]
  },
  {
   "cell_type": "code",
   "execution_count": 66,
   "metadata": {},
   "outputs": [
    {
     "data": {
      "text/html": [
       "<div>\n",
       "<style scoped>\n",
       "    .dataframe tbody tr th:only-of-type {\n",
       "        vertical-align: middle;\n",
       "    }\n",
       "\n",
       "    .dataframe tbody tr th {\n",
       "        vertical-align: top;\n",
       "    }\n",
       "\n",
       "    .dataframe thead th {\n",
       "        text-align: right;\n",
       "    }\n",
       "</style>\n",
       "<table border=\"1\" class=\"dataframe\">\n",
       "  <thead>\n",
       "    <tr style=\"text-align: right;\">\n",
       "      <th></th>\n",
       "      <th>国語</th>\n",
       "      <th>社会</th>\n",
       "      <th>数学</th>\n",
       "      <th>理科</th>\n",
       "      <th>ongaku</th>\n",
       "      <th>bijutu</th>\n",
       "      <th>taiiku</th>\n",
       "      <th>gika</th>\n",
       "      <th>英語</th>\n",
       "      <th>理系</th>\n",
       "      <th>文系</th>\n",
       "      <th>two</th>\n",
       "      <th>three</th>\n",
       "      <th>理系平均</th>\n",
       "      <th>文系平均</th>\n",
       "    </tr>\n",
       "  </thead>\n",
       "  <tbody>\n",
       "    <tr>\n",
       "      <th>0</th>\n",
       "      <td>30</td>\n",
       "      <td>43</td>\n",
       "      <td>51</td>\n",
       "      <td>63</td>\n",
       "      <td>60</td>\n",
       "      <td>66</td>\n",
       "      <td>37</td>\n",
       "      <td>44</td>\n",
       "      <td>20</td>\n",
       "      <td>114</td>\n",
       "      <td>93</td>\n",
       "      <td>2</td>\n",
       "      <td>3</td>\n",
       "      <td>57.0</td>\n",
       "      <td>31.000000</td>\n",
       "    </tr>\n",
       "    <tr>\n",
       "      <th>1</th>\n",
       "      <td>39</td>\n",
       "      <td>21</td>\n",
       "      <td>49</td>\n",
       "      <td>56</td>\n",
       "      <td>70</td>\n",
       "      <td>72</td>\n",
       "      <td>56</td>\n",
       "      <td>63</td>\n",
       "      <td>16</td>\n",
       "      <td>105</td>\n",
       "      <td>76</td>\n",
       "      <td>2</td>\n",
       "      <td>3</td>\n",
       "      <td>52.5</td>\n",
       "      <td>25.333333</td>\n",
       "    </tr>\n",
       "    <tr>\n",
       "      <th>2</th>\n",
       "      <td>29</td>\n",
       "      <td>30</td>\n",
       "      <td>23</td>\n",
       "      <td>57</td>\n",
       "      <td>69</td>\n",
       "      <td>76</td>\n",
       "      <td>33</td>\n",
       "      <td>54</td>\n",
       "      <td>6</td>\n",
       "      <td>80</td>\n",
       "      <td>65</td>\n",
       "      <td>2</td>\n",
       "      <td>3</td>\n",
       "      <td>40.0</td>\n",
       "      <td>21.666667</td>\n",
       "    </tr>\n",
       "    <tr>\n",
       "      <th>3</th>\n",
       "      <td>95</td>\n",
       "      <td>87</td>\n",
       "      <td>77</td>\n",
       "      <td>100</td>\n",
       "      <td>77</td>\n",
       "      <td>82</td>\n",
       "      <td>78</td>\n",
       "      <td>96</td>\n",
       "      <td>87</td>\n",
       "      <td>177</td>\n",
       "      <td>269</td>\n",
       "      <td>2</td>\n",
       "      <td>3</td>\n",
       "      <td>88.5</td>\n",
       "      <td>89.666667</td>\n",
       "    </tr>\n",
       "    <tr>\n",
       "      <th>4</th>\n",
       "      <td>70</td>\n",
       "      <td>71</td>\n",
       "      <td>78</td>\n",
       "      <td>67</td>\n",
       "      <td>72</td>\n",
       "      <td>82</td>\n",
       "      <td>46</td>\n",
       "      <td>63</td>\n",
       "      <td>44</td>\n",
       "      <td>145</td>\n",
       "      <td>185</td>\n",
       "      <td>2</td>\n",
       "      <td>3</td>\n",
       "      <td>72.5</td>\n",
       "      <td>61.666667</td>\n",
       "    </tr>\n",
       "    <tr>\n",
       "      <th>...</th>\n",
       "      <td>...</td>\n",
       "      <td>...</td>\n",
       "      <td>...</td>\n",
       "      <td>...</td>\n",
       "      <td>...</td>\n",
       "      <td>...</td>\n",
       "      <td>...</td>\n",
       "      <td>...</td>\n",
       "      <td>...</td>\n",
       "      <td>...</td>\n",
       "      <td>...</td>\n",
       "      <td>...</td>\n",
       "      <td>...</td>\n",
       "      <td>...</td>\n",
       "      <td>...</td>\n",
       "    </tr>\n",
       "    <tr>\n",
       "      <th>161</th>\n",
       "      <td>82</td>\n",
       "      <td>78</td>\n",
       "      <td>80</td>\n",
       "      <td>88</td>\n",
       "      <td>80</td>\n",
       "      <td>69</td>\n",
       "      <td>83</td>\n",
       "      <td>78</td>\n",
       "      <td>90</td>\n",
       "      <td>168</td>\n",
       "      <td>250</td>\n",
       "      <td>2</td>\n",
       "      <td>3</td>\n",
       "      <td>84.0</td>\n",
       "      <td>83.333333</td>\n",
       "    </tr>\n",
       "    <tr>\n",
       "      <th>162</th>\n",
       "      <td>0</td>\n",
       "      <td>8</td>\n",
       "      <td>2</td>\n",
       "      <td>9</td>\n",
       "      <td>5</td>\n",
       "      <td>18</td>\n",
       "      <td>42</td>\n",
       "      <td>2</td>\n",
       "      <td>1</td>\n",
       "      <td>11</td>\n",
       "      <td>9</td>\n",
       "      <td>2</td>\n",
       "      <td>3</td>\n",
       "      <td>5.5</td>\n",
       "      <td>3.000000</td>\n",
       "    </tr>\n",
       "    <tr>\n",
       "      <th>163</th>\n",
       "      <td>45</td>\n",
       "      <td>26</td>\n",
       "      <td>29</td>\n",
       "      <td>24</td>\n",
       "      <td>31</td>\n",
       "      <td>57</td>\n",
       "      <td>68</td>\n",
       "      <td>40</td>\n",
       "      <td>27</td>\n",
       "      <td>53</td>\n",
       "      <td>98</td>\n",
       "      <td>2</td>\n",
       "      <td>3</td>\n",
       "      <td>26.5</td>\n",
       "      <td>32.666667</td>\n",
       "    </tr>\n",
       "    <tr>\n",
       "      <th>164</th>\n",
       "      <td>73</td>\n",
       "      <td>31</td>\n",
       "      <td>43</td>\n",
       "      <td>32</td>\n",
       "      <td>59</td>\n",
       "      <td>64</td>\n",
       "      <td>82</td>\n",
       "      <td>48</td>\n",
       "      <td>56</td>\n",
       "      <td>75</td>\n",
       "      <td>160</td>\n",
       "      <td>2</td>\n",
       "      <td>3</td>\n",
       "      <td>37.5</td>\n",
       "      <td>53.333333</td>\n",
       "    </tr>\n",
       "    <tr>\n",
       "      <th>165</th>\n",
       "      <td>60</td>\n",
       "      <td>85</td>\n",
       "      <td>89</td>\n",
       "      <td>80</td>\n",
       "      <td>56</td>\n",
       "      <td>79</td>\n",
       "      <td>81</td>\n",
       "      <td>45</td>\n",
       "      <td>85</td>\n",
       "      <td>169</td>\n",
       "      <td>230</td>\n",
       "      <td>2</td>\n",
       "      <td>3</td>\n",
       "      <td>84.5</td>\n",
       "      <td>76.666667</td>\n",
       "    </tr>\n",
       "  </tbody>\n",
       "</table>\n",
       "<p>166 rows × 15 columns</p>\n",
       "</div>"
      ],
      "text/plain": [
       "     国語  社会  数学   理科  ongaku  bijutu  taiiku  gika  英語   理系   文系  two  three  \\\n",
       "0    30  43  51   63      60      66      37    44  20  114   93    2      3   \n",
       "1    39  21  49   56      70      72      56    63  16  105   76    2      3   \n",
       "2    29  30  23   57      69      76      33    54   6   80   65    2      3   \n",
       "3    95  87  77  100      77      82      78    96  87  177  269    2      3   \n",
       "4    70  71  78   67      72      82      46    63  44  145  185    2      3   \n",
       "..   ..  ..  ..  ...     ...     ...     ...   ...  ..  ...  ...  ...    ...   \n",
       "161  82  78  80   88      80      69      83    78  90  168  250    2      3   \n",
       "162   0   8   2    9       5      18      42     2   1   11    9    2      3   \n",
       "163  45  26  29   24      31      57      68    40  27   53   98    2      3   \n",
       "164  73  31  43   32      59      64      82    48  56   75  160    2      3   \n",
       "165  60  85  89   80      56      79      81    45  85  169  230    2      3   \n",
       "\n",
       "     理系平均       文系平均  \n",
       "0    57.0  31.000000  \n",
       "1    52.5  25.333333  \n",
       "2    40.0  21.666667  \n",
       "3    88.5  89.666667  \n",
       "4    72.5  61.666667  \n",
       "..    ...        ...  \n",
       "161  84.0  83.333333  \n",
       "162   5.5   3.000000  \n",
       "163  26.5  32.666667  \n",
       "164  37.5  53.333333  \n",
       "165  84.5  76.666667  \n",
       "\n",
       "[166 rows x 15 columns]"
      ]
     },
     "execution_count": 66,
     "metadata": {},
     "output_type": "execute_result"
    }
   ],
   "source": [
    "df = df.rename(columns={\"eigo\":\"英語\",\"kokugo\":\"国語\",\"shakai\":\"社会\",\"rika\":\"理科\",\"sugaku\":\"数学\"})\n",
    "df\n",
    "#名前を上書きしないと一回きりで消えてしまいます！！"
   ]
  },
  {
   "cell_type": "markdown",
   "metadata": {},
   "source": [
    "*Q2* *カラムの名前を変更してみましょう！*  \n",
    "同様の手法で、副科目のローマ字も漢字に変更してみましょう！"
   ]
  },
  {
   "cell_type": "markdown",
   "metadata": {},
   "source": [
    "**その4** **特定の列だけを取り出してみよう！**<a id='sec4_4'></a>  \n",
    "[先頭に戻る](#top)"
   ]
  },
  {
   "cell_type": "markdown",
   "metadata": {},
   "source": [
    "まずは国語のデータのみを抽出してみましょう。"
   ]
  },
  {
   "cell_type": "code",
   "execution_count": 67,
   "metadata": {},
   "outputs": [
    {
     "data": {
      "text/html": [
       "<div>\n",
       "<style scoped>\n",
       "    .dataframe tbody tr th:only-of-type {\n",
       "        vertical-align: middle;\n",
       "    }\n",
       "\n",
       "    .dataframe tbody tr th {\n",
       "        vertical-align: top;\n",
       "    }\n",
       "\n",
       "    .dataframe thead th {\n",
       "        text-align: right;\n",
       "    }\n",
       "</style>\n",
       "<table border=\"1\" class=\"dataframe\">\n",
       "  <thead>\n",
       "    <tr style=\"text-align: right;\">\n",
       "      <th></th>\n",
       "      <th>国語</th>\n",
       "    </tr>\n",
       "  </thead>\n",
       "  <tbody>\n",
       "    <tr>\n",
       "      <th>0</th>\n",
       "      <td>30</td>\n",
       "    </tr>\n",
       "    <tr>\n",
       "      <th>1</th>\n",
       "      <td>39</td>\n",
       "    </tr>\n",
       "    <tr>\n",
       "      <th>2</th>\n",
       "      <td>29</td>\n",
       "    </tr>\n",
       "    <tr>\n",
       "      <th>3</th>\n",
       "      <td>95</td>\n",
       "    </tr>\n",
       "    <tr>\n",
       "      <th>4</th>\n",
       "      <td>70</td>\n",
       "    </tr>\n",
       "    <tr>\n",
       "      <th>...</th>\n",
       "      <td>...</td>\n",
       "    </tr>\n",
       "    <tr>\n",
       "      <th>161</th>\n",
       "      <td>82</td>\n",
       "    </tr>\n",
       "    <tr>\n",
       "      <th>162</th>\n",
       "      <td>0</td>\n",
       "    </tr>\n",
       "    <tr>\n",
       "      <th>163</th>\n",
       "      <td>45</td>\n",
       "    </tr>\n",
       "    <tr>\n",
       "      <th>164</th>\n",
       "      <td>73</td>\n",
       "    </tr>\n",
       "    <tr>\n",
       "      <th>165</th>\n",
       "      <td>60</td>\n",
       "    </tr>\n",
       "  </tbody>\n",
       "</table>\n",
       "<p>166 rows × 1 columns</p>\n",
       "</div>"
      ],
      "text/plain": [
       "     国語\n",
       "0    30\n",
       "1    39\n",
       "2    29\n",
       "3    95\n",
       "4    70\n",
       "..   ..\n",
       "161  82\n",
       "162   0\n",
       "163  45\n",
       "164  73\n",
       "165  60\n",
       "\n",
       "[166 rows x 1 columns]"
      ]
     },
     "execution_count": 67,
     "metadata": {},
     "output_type": "execute_result"
    }
   ],
   "source": [
    "df[[\"国語\"]]"
   ]
  },
  {
   "cell_type": "markdown",
   "metadata": {},
   "source": [
    "*Q1* *データの特徴を把握してみましょう* <p>データを抜き出しただけですが、確認のために、先程と同じようにinfo()関数とdescribe()関数を用いてデータの特徴を把握してみましょう！"
   ]
  },
  {
   "cell_type": "markdown",
   "metadata": {},
   "source": [
    "### *DataFrameとSeries*<a id='sec4_5'></a>  \n",
    "[先頭に戻る](#top)"
   ]
  },
  {
   "cell_type": "markdown",
   "metadata": {},
   "source": [
    "DataFrameと対になる概念が、Seriesです。  \n",
    "以下に、Series(シリーズ)に関して説明します。"
   ]
  },
  {
   "cell_type": "code",
   "execution_count": 29,
   "metadata": {},
   "outputs": [
    {
     "data": {
      "text/plain": [
       "0      30\n",
       "1      39\n",
       "2      29\n",
       "3      95\n",
       "4      70\n",
       "       ..\n",
       "161    82\n",
       "162     0\n",
       "163    45\n",
       "164    73\n",
       "165    60\n",
       "Name: 国語, Length: 166, dtype: int64"
      ]
     },
     "execution_count": 29,
     "metadata": {},
     "output_type": "execute_result"
    }
   ],
   "source": [
    "df[\"国語\"]"
   ]
  },
  {
   "cell_type": "markdown",
   "metadata": {},
   "source": [
    "データを抜き取る際に、[　]の数を一ペア減らしました。すると、表示のされ方が変わりました。このように一次元配列で収納されたデータを**シリーズ**と呼びます。シリーズはDataFrameとは少し扱い方が異なります。重要な点だけ確認してみます。"
   ]
  },
  {
   "cell_type": "markdown",
   "metadata": {},
   "source": [
    "実際に動かしてみるとわかりますが、Series型はinfo()関数やdescribe()関数が使えません。そのため、確認には以下のコードを用います。"
   ]
  },
  {
   "cell_type": "code",
   "execution_count": 68,
   "metadata": {},
   "outputs": [
    {
     "data": {
      "text/plain": [
       "pandas.core.series.Series"
      ]
     },
     "execution_count": 68,
     "metadata": {},
     "output_type": "execute_result"
    }
   ],
   "source": [
    "#dataの型を確認します。\n",
    "type(df[\"国語\"])"
   ]
  },
  {
   "cell_type": "code",
   "execution_count": 69,
   "metadata": {},
   "outputs": [
    {
     "data": {
      "text/plain": [
       "dtype('int64')"
      ]
     },
     "execution_count": 69,
     "metadata": {},
     "output_type": "execute_result"
    }
   ],
   "source": [
    "#文字の種類を確認できます。\n",
    "df[\"国語\"].dtype"
   ]
  },
  {
   "cell_type": "markdown",
   "metadata": {},
   "source": [
    "Seriesでは、記述統計の確認が面倒...。平均値などの記述統計を知りたい場合は、シリーズをDataFrameに戻してしまうのが便利です。"
   ]
  },
  {
   "cell_type": "code",
   "execution_count": 11,
   "metadata": {},
   "outputs": [
    {
     "data": {
      "text/html": [
       "<div>\n",
       "<style scoped>\n",
       "    .dataframe tbody tr th:only-of-type {\n",
       "        vertical-align: middle;\n",
       "    }\n",
       "\n",
       "    .dataframe tbody tr th {\n",
       "        vertical-align: top;\n",
       "    }\n",
       "\n",
       "    .dataframe thead th {\n",
       "        text-align: right;\n",
       "    }\n",
       "</style>\n",
       "<table border=\"1\" class=\"dataframe\">\n",
       "  <thead>\n",
       "    <tr style=\"text-align: right;\">\n",
       "      <th></th>\n",
       "      <th>国語</th>\n",
       "    </tr>\n",
       "  </thead>\n",
       "  <tbody>\n",
       "    <tr>\n",
       "      <th>0</th>\n",
       "      <td>30</td>\n",
       "    </tr>\n",
       "    <tr>\n",
       "      <th>1</th>\n",
       "      <td>39</td>\n",
       "    </tr>\n",
       "    <tr>\n",
       "      <th>2</th>\n",
       "      <td>29</td>\n",
       "    </tr>\n",
       "    <tr>\n",
       "      <th>3</th>\n",
       "      <td>95</td>\n",
       "    </tr>\n",
       "    <tr>\n",
       "      <th>4</th>\n",
       "      <td>70</td>\n",
       "    </tr>\n",
       "    <tr>\n",
       "      <th>...</th>\n",
       "      <td>...</td>\n",
       "    </tr>\n",
       "    <tr>\n",
       "      <th>161</th>\n",
       "      <td>82</td>\n",
       "    </tr>\n",
       "    <tr>\n",
       "      <th>162</th>\n",
       "      <td>0</td>\n",
       "    </tr>\n",
       "    <tr>\n",
       "      <th>163</th>\n",
       "      <td>45</td>\n",
       "    </tr>\n",
       "    <tr>\n",
       "      <th>164</th>\n",
       "      <td>73</td>\n",
       "    </tr>\n",
       "    <tr>\n",
       "      <th>165</th>\n",
       "      <td>60</td>\n",
       "    </tr>\n",
       "  </tbody>\n",
       "</table>\n",
       "<p>166 rows × 1 columns</p>\n",
       "</div>"
      ],
      "text/plain": [
       "     国語\n",
       "0    30\n",
       "1    39\n",
       "2    29\n",
       "3    95\n",
       "4    70\n",
       "..   ..\n",
       "161  82\n",
       "162   0\n",
       "163  45\n",
       "164  73\n",
       "165  60\n",
       "\n",
       "[166 rows x 1 columns]"
      ]
     },
     "execution_count": 11,
     "metadata": {},
     "output_type": "execute_result"
    }
   ],
   "source": [
    "df_kokugo = pd.DataFrame(df[\"国語\"])\n",
    "df_kokugo"
   ]
  },
  {
   "cell_type": "markdown",
   "metadata": {},
   "source": [
    "　DataFrameに帰ってくることができました。このように、データは多くの場合で変更ができます。先ほどのint64型とfloat型でも、int64で表示されていてほしい時に、float型で表示されてしまっていたりすることがあります。同じ種類のデータには、なんらかの互換性が装備されていることが多いです。"
   ]
  },
  {
   "cell_type": "markdown",
   "metadata": {},
   "source": [
    "次は複数の行を取り出します。"
   ]
  },
  {
   "cell_type": "code",
   "execution_count": 12,
   "metadata": {},
   "outputs": [
    {
     "data": {
      "text/html": [
       "<div>\n",
       "<style scoped>\n",
       "    .dataframe tbody tr th:only-of-type {\n",
       "        vertical-align: middle;\n",
       "    }\n",
       "\n",
       "    .dataframe tbody tr th {\n",
       "        vertical-align: top;\n",
       "    }\n",
       "\n",
       "    .dataframe thead th {\n",
       "        text-align: right;\n",
       "    }\n",
       "</style>\n",
       "<table border=\"1\" class=\"dataframe\">\n",
       "  <thead>\n",
       "    <tr style=\"text-align: right;\">\n",
       "      <th></th>\n",
       "      <th>国語</th>\n",
       "      <th>社会</th>\n",
       "      <th>理科</th>\n",
       "      <th>数学</th>\n",
       "      <th>英語</th>\n",
       "    </tr>\n",
       "  </thead>\n",
       "  <tbody>\n",
       "    <tr>\n",
       "      <th>0</th>\n",
       "      <td>30</td>\n",
       "      <td>43</td>\n",
       "      <td>63</td>\n",
       "      <td>51</td>\n",
       "      <td>20</td>\n",
       "    </tr>\n",
       "    <tr>\n",
       "      <th>1</th>\n",
       "      <td>39</td>\n",
       "      <td>21</td>\n",
       "      <td>56</td>\n",
       "      <td>49</td>\n",
       "      <td>16</td>\n",
       "    </tr>\n",
       "    <tr>\n",
       "      <th>2</th>\n",
       "      <td>29</td>\n",
       "      <td>30</td>\n",
       "      <td>57</td>\n",
       "      <td>23</td>\n",
       "      <td>6</td>\n",
       "    </tr>\n",
       "    <tr>\n",
       "      <th>3</th>\n",
       "      <td>95</td>\n",
       "      <td>87</td>\n",
       "      <td>100</td>\n",
       "      <td>77</td>\n",
       "      <td>87</td>\n",
       "    </tr>\n",
       "    <tr>\n",
       "      <th>4</th>\n",
       "      <td>70</td>\n",
       "      <td>71</td>\n",
       "      <td>67</td>\n",
       "      <td>78</td>\n",
       "      <td>44</td>\n",
       "    </tr>\n",
       "    <tr>\n",
       "      <th>...</th>\n",
       "      <td>...</td>\n",
       "      <td>...</td>\n",
       "      <td>...</td>\n",
       "      <td>...</td>\n",
       "      <td>...</td>\n",
       "    </tr>\n",
       "    <tr>\n",
       "      <th>161</th>\n",
       "      <td>82</td>\n",
       "      <td>78</td>\n",
       "      <td>88</td>\n",
       "      <td>80</td>\n",
       "      <td>90</td>\n",
       "    </tr>\n",
       "    <tr>\n",
       "      <th>162</th>\n",
       "      <td>0</td>\n",
       "      <td>8</td>\n",
       "      <td>9</td>\n",
       "      <td>2</td>\n",
       "      <td>1</td>\n",
       "    </tr>\n",
       "    <tr>\n",
       "      <th>163</th>\n",
       "      <td>45</td>\n",
       "      <td>26</td>\n",
       "      <td>24</td>\n",
       "      <td>29</td>\n",
       "      <td>27</td>\n",
       "    </tr>\n",
       "    <tr>\n",
       "      <th>164</th>\n",
       "      <td>73</td>\n",
       "      <td>31</td>\n",
       "      <td>32</td>\n",
       "      <td>43</td>\n",
       "      <td>56</td>\n",
       "    </tr>\n",
       "    <tr>\n",
       "      <th>165</th>\n",
       "      <td>60</td>\n",
       "      <td>85</td>\n",
       "      <td>80</td>\n",
       "      <td>89</td>\n",
       "      <td>85</td>\n",
       "    </tr>\n",
       "  </tbody>\n",
       "</table>\n",
       "<p>166 rows × 5 columns</p>\n",
       "</div>"
      ],
      "text/plain": [
       "     国語  社会   理科  数学  英語\n",
       "0    30  43   63  51  20\n",
       "1    39  21   56  49  16\n",
       "2    29  30   57  23   6\n",
       "3    95  87  100  77  87\n",
       "4    70  71   67  78  44\n",
       "..   ..  ..  ...  ..  ..\n",
       "161  82  78   88  80  90\n",
       "162   0   8    9   2   1\n",
       "163  45  26   24  29  27\n",
       "164  73  31   32  43  56\n",
       "165  60  85   80  89  85\n",
       "\n",
       "[166 rows x 5 columns]"
      ]
     },
     "execution_count": 12,
     "metadata": {},
     "output_type": "execute_result"
    }
   ],
   "source": [
    "df[[\"国語\",\"社会\",\"理科\",\"数学\",\"英語\"]]"
   ]
  },
  {
   "cell_type": "markdown",
   "metadata": {},
   "source": [
    "**その5** **列を統合させてみよう！**<a id='sec4_6'></a>  \n",
    "[先頭に戻る](#top)"
   ]
  },
  {
   "cell_type": "markdown",
   "metadata": {},
   "source": [
    "次に列を合体させて、理系科目と文系科目に分けてみようと思います。"
   ]
  },
  {
   "cell_type": "code",
   "execution_count": 13,
   "metadata": {},
   "outputs": [],
   "source": [
    "df[\"理系\"] = df[\"数学\"] + df[\"理科\"]\n",
    "df[\"文系\"] =df[\"国語\"] + df[\"社会\"] + df[\"英語\"]"
   ]
  },
  {
   "cell_type": "code",
   "execution_count": 14,
   "metadata": {},
   "outputs": [
    {
     "data": {
      "text/html": [
       "<div>\n",
       "<style scoped>\n",
       "    .dataframe tbody tr th:only-of-type {\n",
       "        vertical-align: middle;\n",
       "    }\n",
       "\n",
       "    .dataframe tbody tr th {\n",
       "        vertical-align: top;\n",
       "    }\n",
       "\n",
       "    .dataframe thead th {\n",
       "        text-align: right;\n",
       "    }\n",
       "</style>\n",
       "<table border=\"1\" class=\"dataframe\">\n",
       "  <thead>\n",
       "    <tr style=\"text-align: right;\">\n",
       "      <th></th>\n",
       "      <th>国語</th>\n",
       "      <th>社会</th>\n",
       "      <th>数学</th>\n",
       "      <th>理科</th>\n",
       "      <th>ongaku</th>\n",
       "      <th>bijutu</th>\n",
       "      <th>taiiku</th>\n",
       "      <th>gika</th>\n",
       "      <th>英語</th>\n",
       "      <th>理系</th>\n",
       "      <th>文系</th>\n",
       "    </tr>\n",
       "  </thead>\n",
       "  <tbody>\n",
       "    <tr>\n",
       "      <th>0</th>\n",
       "      <td>30</td>\n",
       "      <td>43</td>\n",
       "      <td>51</td>\n",
       "      <td>63</td>\n",
       "      <td>60</td>\n",
       "      <td>66</td>\n",
       "      <td>37</td>\n",
       "      <td>44</td>\n",
       "      <td>20</td>\n",
       "      <td>114</td>\n",
       "      <td>93</td>\n",
       "    </tr>\n",
       "    <tr>\n",
       "      <th>1</th>\n",
       "      <td>39</td>\n",
       "      <td>21</td>\n",
       "      <td>49</td>\n",
       "      <td>56</td>\n",
       "      <td>70</td>\n",
       "      <td>72</td>\n",
       "      <td>56</td>\n",
       "      <td>63</td>\n",
       "      <td>16</td>\n",
       "      <td>105</td>\n",
       "      <td>76</td>\n",
       "    </tr>\n",
       "    <tr>\n",
       "      <th>2</th>\n",
       "      <td>29</td>\n",
       "      <td>30</td>\n",
       "      <td>23</td>\n",
       "      <td>57</td>\n",
       "      <td>69</td>\n",
       "      <td>76</td>\n",
       "      <td>33</td>\n",
       "      <td>54</td>\n",
       "      <td>6</td>\n",
       "      <td>80</td>\n",
       "      <td>65</td>\n",
       "    </tr>\n",
       "    <tr>\n",
       "      <th>3</th>\n",
       "      <td>95</td>\n",
       "      <td>87</td>\n",
       "      <td>77</td>\n",
       "      <td>100</td>\n",
       "      <td>77</td>\n",
       "      <td>82</td>\n",
       "      <td>78</td>\n",
       "      <td>96</td>\n",
       "      <td>87</td>\n",
       "      <td>177</td>\n",
       "      <td>269</td>\n",
       "    </tr>\n",
       "    <tr>\n",
       "      <th>4</th>\n",
       "      <td>70</td>\n",
       "      <td>71</td>\n",
       "      <td>78</td>\n",
       "      <td>67</td>\n",
       "      <td>72</td>\n",
       "      <td>82</td>\n",
       "      <td>46</td>\n",
       "      <td>63</td>\n",
       "      <td>44</td>\n",
       "      <td>145</td>\n",
       "      <td>185</td>\n",
       "    </tr>\n",
       "    <tr>\n",
       "      <th>...</th>\n",
       "      <td>...</td>\n",
       "      <td>...</td>\n",
       "      <td>...</td>\n",
       "      <td>...</td>\n",
       "      <td>...</td>\n",
       "      <td>...</td>\n",
       "      <td>...</td>\n",
       "      <td>...</td>\n",
       "      <td>...</td>\n",
       "      <td>...</td>\n",
       "      <td>...</td>\n",
       "    </tr>\n",
       "    <tr>\n",
       "      <th>161</th>\n",
       "      <td>82</td>\n",
       "      <td>78</td>\n",
       "      <td>80</td>\n",
       "      <td>88</td>\n",
       "      <td>80</td>\n",
       "      <td>69</td>\n",
       "      <td>83</td>\n",
       "      <td>78</td>\n",
       "      <td>90</td>\n",
       "      <td>168</td>\n",
       "      <td>250</td>\n",
       "    </tr>\n",
       "    <tr>\n",
       "      <th>162</th>\n",
       "      <td>0</td>\n",
       "      <td>8</td>\n",
       "      <td>2</td>\n",
       "      <td>9</td>\n",
       "      <td>5</td>\n",
       "      <td>18</td>\n",
       "      <td>42</td>\n",
       "      <td>2</td>\n",
       "      <td>1</td>\n",
       "      <td>11</td>\n",
       "      <td>9</td>\n",
       "    </tr>\n",
       "    <tr>\n",
       "      <th>163</th>\n",
       "      <td>45</td>\n",
       "      <td>26</td>\n",
       "      <td>29</td>\n",
       "      <td>24</td>\n",
       "      <td>31</td>\n",
       "      <td>57</td>\n",
       "      <td>68</td>\n",
       "      <td>40</td>\n",
       "      <td>27</td>\n",
       "      <td>53</td>\n",
       "      <td>98</td>\n",
       "    </tr>\n",
       "    <tr>\n",
       "      <th>164</th>\n",
       "      <td>73</td>\n",
       "      <td>31</td>\n",
       "      <td>43</td>\n",
       "      <td>32</td>\n",
       "      <td>59</td>\n",
       "      <td>64</td>\n",
       "      <td>82</td>\n",
       "      <td>48</td>\n",
       "      <td>56</td>\n",
       "      <td>75</td>\n",
       "      <td>160</td>\n",
       "    </tr>\n",
       "    <tr>\n",
       "      <th>165</th>\n",
       "      <td>60</td>\n",
       "      <td>85</td>\n",
       "      <td>89</td>\n",
       "      <td>80</td>\n",
       "      <td>56</td>\n",
       "      <td>79</td>\n",
       "      <td>81</td>\n",
       "      <td>45</td>\n",
       "      <td>85</td>\n",
       "      <td>169</td>\n",
       "      <td>230</td>\n",
       "    </tr>\n",
       "  </tbody>\n",
       "</table>\n",
       "<p>166 rows × 11 columns</p>\n",
       "</div>"
      ],
      "text/plain": [
       "     国語  社会  数学   理科  ongaku  bijutu  taiiku  gika  英語   理系   文系\n",
       "0    30  43  51   63      60      66      37    44  20  114   93\n",
       "1    39  21  49   56      70      72      56    63  16  105   76\n",
       "2    29  30  23   57      69      76      33    54   6   80   65\n",
       "3    95  87  77  100      77      82      78    96  87  177  269\n",
       "4    70  71  78   67      72      82      46    63  44  145  185\n",
       "..   ..  ..  ..  ...     ...     ...     ...   ...  ..  ...  ...\n",
       "161  82  78  80   88      80      69      83    78  90  168  250\n",
       "162   0   8   2    9       5      18      42     2   1   11    9\n",
       "163  45  26  29   24      31      57      68    40  27   53   98\n",
       "164  73  31  43   32      59      64      82    48  56   75  160\n",
       "165  60  85  89   80      56      79      81    45  85  169  230\n",
       "\n",
       "[166 rows x 11 columns]"
      ]
     },
     "execution_count": 14,
     "metadata": {},
     "output_type": "execute_result"
    }
   ],
   "source": [
    "df"
   ]
  },
  {
   "cell_type": "markdown",
   "metadata": {},
   "source": [
    "上手にできました！！"
   ]
  },
  {
   "cell_type": "markdown",
   "metadata": {},
   "source": [
    "*Q3* *データの分類をしてみましょう*   \n",
    "dfに新たな列、\"副科目\"を追加しましょう！"
   ]
  },
  {
   "cell_type": "markdown",
   "metadata": {},
   "source": [
    "それでは理系と文系の二列を取り出してみましょう！"
   ]
  },
  {
   "cell_type": "markdown",
   "metadata": {},
   "source": [
    "*Q4* *データの抽出をしてみましょう*   \n",
    "復習です！忘れていませんか！？"
   ]
  },
  {
   "cell_type": "code",
   "execution_count": 70,
   "metadata": {},
   "outputs": [
    {
     "data": {
      "text/html": [
       "<div>\n",
       "<style scoped>\n",
       "    .dataframe tbody tr th:only-of-type {\n",
       "        vertical-align: middle;\n",
       "    }\n",
       "\n",
       "    .dataframe tbody tr th {\n",
       "        vertical-align: top;\n",
       "    }\n",
       "\n",
       "    .dataframe thead th {\n",
       "        text-align: right;\n",
       "    }\n",
       "</style>\n",
       "<table border=\"1\" class=\"dataframe\">\n",
       "  <thead>\n",
       "    <tr style=\"text-align: right;\">\n",
       "      <th></th>\n",
       "      <th>理系</th>\n",
       "      <th>文系</th>\n",
       "    </tr>\n",
       "  </thead>\n",
       "  <tbody>\n",
       "    <tr>\n",
       "      <th>0</th>\n",
       "      <td>114</td>\n",
       "      <td>93</td>\n",
       "    </tr>\n",
       "    <tr>\n",
       "      <th>1</th>\n",
       "      <td>105</td>\n",
       "      <td>76</td>\n",
       "    </tr>\n",
       "    <tr>\n",
       "      <th>2</th>\n",
       "      <td>80</td>\n",
       "      <td>65</td>\n",
       "    </tr>\n",
       "    <tr>\n",
       "      <th>3</th>\n",
       "      <td>177</td>\n",
       "      <td>269</td>\n",
       "    </tr>\n",
       "    <tr>\n",
       "      <th>4</th>\n",
       "      <td>145</td>\n",
       "      <td>185</td>\n",
       "    </tr>\n",
       "    <tr>\n",
       "      <th>...</th>\n",
       "      <td>...</td>\n",
       "      <td>...</td>\n",
       "    </tr>\n",
       "    <tr>\n",
       "      <th>161</th>\n",
       "      <td>168</td>\n",
       "      <td>250</td>\n",
       "    </tr>\n",
       "    <tr>\n",
       "      <th>162</th>\n",
       "      <td>11</td>\n",
       "      <td>9</td>\n",
       "    </tr>\n",
       "    <tr>\n",
       "      <th>163</th>\n",
       "      <td>53</td>\n",
       "      <td>98</td>\n",
       "    </tr>\n",
       "    <tr>\n",
       "      <th>164</th>\n",
       "      <td>75</td>\n",
       "      <td>160</td>\n",
       "    </tr>\n",
       "    <tr>\n",
       "      <th>165</th>\n",
       "      <td>169</td>\n",
       "      <td>230</td>\n",
       "    </tr>\n",
       "  </tbody>\n",
       "</table>\n",
       "<p>166 rows × 2 columns</p>\n",
       "</div>"
      ],
      "text/plain": [
       "      理系   文系\n",
       "0    114   93\n",
       "1    105   76\n",
       "2     80   65\n",
       "3    177  269\n",
       "4    145  185\n",
       "..   ...  ...\n",
       "161  168  250\n",
       "162   11    9\n",
       "163   53   98\n",
       "164   75  160\n",
       "165  169  230\n",
       "\n",
       "[166 rows x 2 columns]"
      ]
     },
     "execution_count": 70,
     "metadata": {},
     "output_type": "execute_result"
    }
   ],
   "source": [
    "df_two = df[[\"理系\",\"文系\"]]\n",
    "df_two"
   ]
  },
  {
   "cell_type": "code",
   "execution_count": 16,
   "metadata": {},
   "outputs": [],
   "source": [
    "df[\"two\"] = 2\n",
    "df[\"three\"] = 3"
   ]
  },
  {
   "cell_type": "code",
   "execution_count": 17,
   "metadata": {},
   "outputs": [
    {
     "data": {
      "text/html": [
       "<div>\n",
       "<style scoped>\n",
       "    .dataframe tbody tr th:only-of-type {\n",
       "        vertical-align: middle;\n",
       "    }\n",
       "\n",
       "    .dataframe tbody tr th {\n",
       "        vertical-align: top;\n",
       "    }\n",
       "\n",
       "    .dataframe thead th {\n",
       "        text-align: right;\n",
       "    }\n",
       "</style>\n",
       "<table border=\"1\" class=\"dataframe\">\n",
       "  <thead>\n",
       "    <tr style=\"text-align: right;\">\n",
       "      <th></th>\n",
       "      <th>国語</th>\n",
       "      <th>社会</th>\n",
       "      <th>数学</th>\n",
       "      <th>理科</th>\n",
       "      <th>ongaku</th>\n",
       "      <th>bijutu</th>\n",
       "      <th>taiiku</th>\n",
       "      <th>gika</th>\n",
       "      <th>英語</th>\n",
       "      <th>理系</th>\n",
       "      <th>文系</th>\n",
       "      <th>two</th>\n",
       "      <th>three</th>\n",
       "      <th>理系平均</th>\n",
       "      <th>文系平均</th>\n",
       "    </tr>\n",
       "  </thead>\n",
       "  <tbody>\n",
       "    <tr>\n",
       "      <th>0</th>\n",
       "      <td>30</td>\n",
       "      <td>43</td>\n",
       "      <td>51</td>\n",
       "      <td>63</td>\n",
       "      <td>60</td>\n",
       "      <td>66</td>\n",
       "      <td>37</td>\n",
       "      <td>44</td>\n",
       "      <td>20</td>\n",
       "      <td>114</td>\n",
       "      <td>93</td>\n",
       "      <td>2</td>\n",
       "      <td>3</td>\n",
       "      <td>57.0</td>\n",
       "      <td>31.000000</td>\n",
       "    </tr>\n",
       "    <tr>\n",
       "      <th>1</th>\n",
       "      <td>39</td>\n",
       "      <td>21</td>\n",
       "      <td>49</td>\n",
       "      <td>56</td>\n",
       "      <td>70</td>\n",
       "      <td>72</td>\n",
       "      <td>56</td>\n",
       "      <td>63</td>\n",
       "      <td>16</td>\n",
       "      <td>105</td>\n",
       "      <td>76</td>\n",
       "      <td>2</td>\n",
       "      <td>3</td>\n",
       "      <td>52.5</td>\n",
       "      <td>25.333333</td>\n",
       "    </tr>\n",
       "    <tr>\n",
       "      <th>2</th>\n",
       "      <td>29</td>\n",
       "      <td>30</td>\n",
       "      <td>23</td>\n",
       "      <td>57</td>\n",
       "      <td>69</td>\n",
       "      <td>76</td>\n",
       "      <td>33</td>\n",
       "      <td>54</td>\n",
       "      <td>6</td>\n",
       "      <td>80</td>\n",
       "      <td>65</td>\n",
       "      <td>2</td>\n",
       "      <td>3</td>\n",
       "      <td>40.0</td>\n",
       "      <td>21.666667</td>\n",
       "    </tr>\n",
       "    <tr>\n",
       "      <th>3</th>\n",
       "      <td>95</td>\n",
       "      <td>87</td>\n",
       "      <td>77</td>\n",
       "      <td>100</td>\n",
       "      <td>77</td>\n",
       "      <td>82</td>\n",
       "      <td>78</td>\n",
       "      <td>96</td>\n",
       "      <td>87</td>\n",
       "      <td>177</td>\n",
       "      <td>269</td>\n",
       "      <td>2</td>\n",
       "      <td>3</td>\n",
       "      <td>88.5</td>\n",
       "      <td>89.666667</td>\n",
       "    </tr>\n",
       "    <tr>\n",
       "      <th>4</th>\n",
       "      <td>70</td>\n",
       "      <td>71</td>\n",
       "      <td>78</td>\n",
       "      <td>67</td>\n",
       "      <td>72</td>\n",
       "      <td>82</td>\n",
       "      <td>46</td>\n",
       "      <td>63</td>\n",
       "      <td>44</td>\n",
       "      <td>145</td>\n",
       "      <td>185</td>\n",
       "      <td>2</td>\n",
       "      <td>3</td>\n",
       "      <td>72.5</td>\n",
       "      <td>61.666667</td>\n",
       "    </tr>\n",
       "    <tr>\n",
       "      <th>...</th>\n",
       "      <td>...</td>\n",
       "      <td>...</td>\n",
       "      <td>...</td>\n",
       "      <td>...</td>\n",
       "      <td>...</td>\n",
       "      <td>...</td>\n",
       "      <td>...</td>\n",
       "      <td>...</td>\n",
       "      <td>...</td>\n",
       "      <td>...</td>\n",
       "      <td>...</td>\n",
       "      <td>...</td>\n",
       "      <td>...</td>\n",
       "      <td>...</td>\n",
       "      <td>...</td>\n",
       "    </tr>\n",
       "    <tr>\n",
       "      <th>161</th>\n",
       "      <td>82</td>\n",
       "      <td>78</td>\n",
       "      <td>80</td>\n",
       "      <td>88</td>\n",
       "      <td>80</td>\n",
       "      <td>69</td>\n",
       "      <td>83</td>\n",
       "      <td>78</td>\n",
       "      <td>90</td>\n",
       "      <td>168</td>\n",
       "      <td>250</td>\n",
       "      <td>2</td>\n",
       "      <td>3</td>\n",
       "      <td>84.0</td>\n",
       "      <td>83.333333</td>\n",
       "    </tr>\n",
       "    <tr>\n",
       "      <th>162</th>\n",
       "      <td>0</td>\n",
       "      <td>8</td>\n",
       "      <td>2</td>\n",
       "      <td>9</td>\n",
       "      <td>5</td>\n",
       "      <td>18</td>\n",
       "      <td>42</td>\n",
       "      <td>2</td>\n",
       "      <td>1</td>\n",
       "      <td>11</td>\n",
       "      <td>9</td>\n",
       "      <td>2</td>\n",
       "      <td>3</td>\n",
       "      <td>5.5</td>\n",
       "      <td>3.000000</td>\n",
       "    </tr>\n",
       "    <tr>\n",
       "      <th>163</th>\n",
       "      <td>45</td>\n",
       "      <td>26</td>\n",
       "      <td>29</td>\n",
       "      <td>24</td>\n",
       "      <td>31</td>\n",
       "      <td>57</td>\n",
       "      <td>68</td>\n",
       "      <td>40</td>\n",
       "      <td>27</td>\n",
       "      <td>53</td>\n",
       "      <td>98</td>\n",
       "      <td>2</td>\n",
       "      <td>3</td>\n",
       "      <td>26.5</td>\n",
       "      <td>32.666667</td>\n",
       "    </tr>\n",
       "    <tr>\n",
       "      <th>164</th>\n",
       "      <td>73</td>\n",
       "      <td>31</td>\n",
       "      <td>43</td>\n",
       "      <td>32</td>\n",
       "      <td>59</td>\n",
       "      <td>64</td>\n",
       "      <td>82</td>\n",
       "      <td>48</td>\n",
       "      <td>56</td>\n",
       "      <td>75</td>\n",
       "      <td>160</td>\n",
       "      <td>2</td>\n",
       "      <td>3</td>\n",
       "      <td>37.5</td>\n",
       "      <td>53.333333</td>\n",
       "    </tr>\n",
       "    <tr>\n",
       "      <th>165</th>\n",
       "      <td>60</td>\n",
       "      <td>85</td>\n",
       "      <td>89</td>\n",
       "      <td>80</td>\n",
       "      <td>56</td>\n",
       "      <td>79</td>\n",
       "      <td>81</td>\n",
       "      <td>45</td>\n",
       "      <td>85</td>\n",
       "      <td>169</td>\n",
       "      <td>230</td>\n",
       "      <td>2</td>\n",
       "      <td>3</td>\n",
       "      <td>84.5</td>\n",
       "      <td>76.666667</td>\n",
       "    </tr>\n",
       "  </tbody>\n",
       "</table>\n",
       "<p>166 rows × 15 columns</p>\n",
       "</div>"
      ],
      "text/plain": [
       "     国語  社会  数学   理科  ongaku  bijutu  taiiku  gika  英語   理系   文系  two  three  \\\n",
       "0    30  43  51   63      60      66      37    44  20  114   93    2      3   \n",
       "1    39  21  49   56      70      72      56    63  16  105   76    2      3   \n",
       "2    29  30  23   57      69      76      33    54   6   80   65    2      3   \n",
       "3    95  87  77  100      77      82      78    96  87  177  269    2      3   \n",
       "4    70  71  78   67      72      82      46    63  44  145  185    2      3   \n",
       "..   ..  ..  ..  ...     ...     ...     ...   ...  ..  ...  ...  ...    ...   \n",
       "161  82  78  80   88      80      69      83    78  90  168  250    2      3   \n",
       "162   0   8   2    9       5      18      42     2   1   11    9    2      3   \n",
       "163  45  26  29   24      31      57      68    40  27   53   98    2      3   \n",
       "164  73  31  43   32      59      64      82    48  56   75  160    2      3   \n",
       "165  60  85  89   80      56      79      81    45  85  169  230    2      3   \n",
       "\n",
       "     理系平均       文系平均  \n",
       "0    57.0  31.000000  \n",
       "1    52.5  25.333333  \n",
       "2    40.0  21.666667  \n",
       "3    88.5  89.666667  \n",
       "4    72.5  61.666667  \n",
       "..    ...        ...  \n",
       "161  84.0  83.333333  \n",
       "162   5.5   3.000000  \n",
       "163  26.5  32.666667  \n",
       "164  37.5  53.333333  \n",
       "165  84.5  76.666667  \n",
       "\n",
       "[166 rows x 15 columns]"
      ]
     },
     "execution_count": 17,
     "metadata": {},
     "output_type": "execute_result"
    }
   ],
   "source": [
    "df[\"理系平均\"] = df[\"理系\"]/ df[\"two\"]\n",
    "df[\"文系平均\"] = df[\"文系\"]/ df[\"three\"]\n",
    "df"
   ]
  },
  {
   "cell_type": "code",
   "execution_count": 18,
   "metadata": {},
   "outputs": [
    {
     "data": {
      "text/html": [
       "<div>\n",
       "<style scoped>\n",
       "    .dataframe tbody tr th:only-of-type {\n",
       "        vertical-align: middle;\n",
       "    }\n",
       "\n",
       "    .dataframe tbody tr th {\n",
       "        vertical-align: top;\n",
       "    }\n",
       "\n",
       "    .dataframe thead th {\n",
       "        text-align: right;\n",
       "    }\n",
       "</style>\n",
       "<table border=\"1\" class=\"dataframe\">\n",
       "  <thead>\n",
       "    <tr style=\"text-align: right;\">\n",
       "      <th></th>\n",
       "      <th>理系平均</th>\n",
       "      <th>文系平均</th>\n",
       "    </tr>\n",
       "  </thead>\n",
       "  <tbody>\n",
       "    <tr>\n",
       "      <th>0</th>\n",
       "      <td>57.0</td>\n",
       "      <td>31.000000</td>\n",
       "    </tr>\n",
       "    <tr>\n",
       "      <th>1</th>\n",
       "      <td>52.5</td>\n",
       "      <td>25.333333</td>\n",
       "    </tr>\n",
       "    <tr>\n",
       "      <th>2</th>\n",
       "      <td>40.0</td>\n",
       "      <td>21.666667</td>\n",
       "    </tr>\n",
       "    <tr>\n",
       "      <th>3</th>\n",
       "      <td>88.5</td>\n",
       "      <td>89.666667</td>\n",
       "    </tr>\n",
       "    <tr>\n",
       "      <th>4</th>\n",
       "      <td>72.5</td>\n",
       "      <td>61.666667</td>\n",
       "    </tr>\n",
       "    <tr>\n",
       "      <th>...</th>\n",
       "      <td>...</td>\n",
       "      <td>...</td>\n",
       "    </tr>\n",
       "    <tr>\n",
       "      <th>161</th>\n",
       "      <td>84.0</td>\n",
       "      <td>83.333333</td>\n",
       "    </tr>\n",
       "    <tr>\n",
       "      <th>162</th>\n",
       "      <td>5.5</td>\n",
       "      <td>3.000000</td>\n",
       "    </tr>\n",
       "    <tr>\n",
       "      <th>163</th>\n",
       "      <td>26.5</td>\n",
       "      <td>32.666667</td>\n",
       "    </tr>\n",
       "    <tr>\n",
       "      <th>164</th>\n",
       "      <td>37.5</td>\n",
       "      <td>53.333333</td>\n",
       "    </tr>\n",
       "    <tr>\n",
       "      <th>165</th>\n",
       "      <td>84.5</td>\n",
       "      <td>76.666667</td>\n",
       "    </tr>\n",
       "  </tbody>\n",
       "</table>\n",
       "<p>166 rows × 2 columns</p>\n",
       "</div>"
      ],
      "text/plain": [
       "     理系平均       文系平均\n",
       "0    57.0  31.000000\n",
       "1    52.5  25.333333\n",
       "2    40.0  21.666667\n",
       "3    88.5  89.666667\n",
       "4    72.5  61.666667\n",
       "..    ...        ...\n",
       "161  84.0  83.333333\n",
       "162   5.5   3.000000\n",
       "163  26.5  32.666667\n",
       "164  37.5  53.333333\n",
       "165  84.5  76.666667\n",
       "\n",
       "[166 rows x 2 columns]"
      ]
     },
     "execution_count": 18,
     "metadata": {},
     "output_type": "execute_result"
    }
   ],
   "source": [
    "df_two_ave = df[[\"理系平均\",\"文系平均\"]]\n",
    "df_two_ave"
   ]
  },
  {
   "cell_type": "code",
   "execution_count": 19,
   "metadata": {},
   "outputs": [
    {
     "name": "stdout",
     "output_type": "stream",
     "text": [
      "<class 'pandas.core.frame.DataFrame'>\n",
      "RangeIndex: 166 entries, 0 to 165\n",
      "Data columns (total 2 columns):\n",
      " #   Column  Non-Null Count  Dtype  \n",
      "---  ------  --------------  -----  \n",
      " 0   理系平均    166 non-null    float64\n",
      " 1   文系平均    166 non-null    float64\n",
      "dtypes: float64(2)\n",
      "memory usage: 2.7 KB\n"
     ]
    }
   ],
   "source": [
    "df_two_ave.info()"
   ]
  },
  {
   "cell_type": "code",
   "execution_count": 20,
   "metadata": {},
   "outputs": [
    {
     "data": {
      "text/html": [
       "<div>\n",
       "<style scoped>\n",
       "    .dataframe tbody tr th:only-of-type {\n",
       "        vertical-align: middle;\n",
       "    }\n",
       "\n",
       "    .dataframe tbody tr th {\n",
       "        vertical-align: top;\n",
       "    }\n",
       "\n",
       "    .dataframe thead th {\n",
       "        text-align: right;\n",
       "    }\n",
       "</style>\n",
       "<table border=\"1\" class=\"dataframe\">\n",
       "  <thead>\n",
       "    <tr style=\"text-align: right;\">\n",
       "      <th></th>\n",
       "      <th>理系平均</th>\n",
       "      <th>文系平均</th>\n",
       "    </tr>\n",
       "  </thead>\n",
       "  <tbody>\n",
       "    <tr>\n",
       "      <th>count</th>\n",
       "      <td>166.000000</td>\n",
       "      <td>166.000000</td>\n",
       "    </tr>\n",
       "    <tr>\n",
       "      <th>mean</th>\n",
       "      <td>47.750000</td>\n",
       "      <td>43.672691</td>\n",
       "    </tr>\n",
       "    <tr>\n",
       "      <th>std</th>\n",
       "      <td>21.762823</td>\n",
       "      <td>22.409187</td>\n",
       "    </tr>\n",
       "    <tr>\n",
       "      <th>min</th>\n",
       "      <td>5.500000</td>\n",
       "      <td>3.000000</td>\n",
       "    </tr>\n",
       "    <tr>\n",
       "      <th>25%</th>\n",
       "      <td>29.125000</td>\n",
       "      <td>25.416667</td>\n",
       "    </tr>\n",
       "    <tr>\n",
       "      <th>50%</th>\n",
       "      <td>46.250000</td>\n",
       "      <td>42.000000</td>\n",
       "    </tr>\n",
       "    <tr>\n",
       "      <th>75%</th>\n",
       "      <td>64.500000</td>\n",
       "      <td>61.416667</td>\n",
       "    </tr>\n",
       "    <tr>\n",
       "      <th>max</th>\n",
       "      <td>95.000000</td>\n",
       "      <td>89.666667</td>\n",
       "    </tr>\n",
       "  </tbody>\n",
       "</table>\n",
       "</div>"
      ],
      "text/plain": [
       "             理系平均        文系平均\n",
       "count  166.000000  166.000000\n",
       "mean    47.750000   43.672691\n",
       "std     21.762823   22.409187\n",
       "min      5.500000    3.000000\n",
       "25%     29.125000   25.416667\n",
       "50%     46.250000   42.000000\n",
       "75%     64.500000   61.416667\n",
       "max     95.000000   89.666667"
      ]
     },
     "execution_count": 20,
     "metadata": {},
     "output_type": "execute_result"
    }
   ],
   "source": [
    "df_two_ave.describe()"
   ]
  },
  {
   "cell_type": "markdown",
   "metadata": {},
   "source": [
    "**その6** **散布図を描いてみよう！**<a id='sec4_7'></a>  \n",
    "[先頭に戻る](#top)"
   ]
  },
  {
   "cell_type": "code",
   "execution_count": 32,
   "metadata": {},
   "outputs": [
    {
     "data": {
      "image/png": "[encoded data removed]",
      "text/plain": [
       "<Figure size 432x288 with 1 Axes>"
      ]
     },
     "metadata": {
      "needs_background": "light"
     },
     "output_type": "display_data"
    }
   ],
   "source": [
    "#散布図を描くための下準備\n",
    "%matplotlib inline\n",
    "import matplotlib.pyplot as plt\n",
    "\n",
    "#図に使う変数の設定\n",
    "plt.plot(df_two_ave[\"理系平均\"],df_two_ave[\"文系平均\"],\"o\")\n",
    "\n",
    "#軸の名前を設定\"o\"\n",
    "plt.xlabel(\"Science\")\n",
    "plt.ylabel(\"Humanities\")\n",
    "\n",
    "#メモリを入れる\n",
    "plt.grid(True)\n",
    "pass"
   ]
  },
  {
   "cell_type": "markdown",
   "metadata": {},
   "source": [
    "どうやら、理系の点数と文系の点数には強い相関があるようですね！　言い換えると、理系の勉強ができる人は文系の勉強もできる傾向にあるようです(逆もまた然り)。"
   ]
  },
  {
   "cell_type": "markdown",
   "metadata": {},
   "source": [
    "**・余談・相関係数を求めてみる**<a id='sec4_8'></a>  \n",
    "[先頭に戻る](#top)  \n",
    "相関係数の求め方については、次回の勉強会で勉強する予定です！ ですので、下の式の意味が理解できなくても問題ありません！！"
   ]
  },
  {
   "cell_type": "code",
   "execution_count": 33,
   "metadata": {},
   "outputs": [
    {
     "name": "stderr",
     "output_type": "stream",
     "text": [
      "C:\\Users\\shinj\\anaconda3\\envs\\Test\\lib\\site-packages\\numpy\\lib\\function_base.py:2551: RuntimeWarning: Degrees of freedom <= 0 for slice\n",
      "  c = cov(x, y, rowvar)\n",
      "C:\\Users\\shinj\\anaconda3\\envs\\Test\\lib\\site-packages\\numpy\\lib\\function_base.py:2480: RuntimeWarning: divide by zero encountered in true_divide\n",
      "  c *= np.true_divide(1, fact)\n",
      "C:\\Users\\shinj\\anaconda3\\envs\\Test\\lib\\site-packages\\numpy\\lib\\function_base.py:2480: RuntimeWarning: invalid value encountered in multiply\n",
      "  c *= np.true_divide(1, fact)\n"
     ]
    },
    {
     "data": {
      "text/html": [
       "<div>\n",
       "<style scoped>\n",
       "    .dataframe tbody tr th:only-of-type {\n",
       "        vertical-align: middle;\n",
       "    }\n",
       "\n",
       "    .dataframe tbody tr th {\n",
       "        vertical-align: top;\n",
       "    }\n",
       "\n",
       "    .dataframe thead th {\n",
       "        text-align: right;\n",
       "    }\n",
       "</style>\n",
       "<table border=\"1\" class=\"dataframe\">\n",
       "  <thead>\n",
       "    <tr style=\"text-align: right;\">\n",
       "      <th></th>\n",
       "      <th>理系平均</th>\n",
       "      <th>文系平均</th>\n",
       "    </tr>\n",
       "  </thead>\n",
       "  <tbody>\n",
       "    <tr>\n",
       "      <th>理系平均</th>\n",
       "      <td>1.000000</td>\n",
       "      <td>0.872302</td>\n",
       "    </tr>\n",
       "    <tr>\n",
       "      <th>文系平均</th>\n",
       "      <td>0.872302</td>\n",
       "      <td>1.000000</td>\n",
       "    </tr>\n",
       "  </tbody>\n",
       "</table>\n",
       "</div>"
      ],
      "text/plain": [
       "          理系平均      文系平均\n",
       "理系平均  1.000000  0.872302\n",
       "文系平均  0.872302  1.000000"
      ]
     },
     "execution_count": 33,
     "metadata": {},
     "output_type": "execute_result"
    }
   ],
   "source": [
    "import numpy as np\n",
    "X = df_two_ave.loc[:,[\"理系平均\"]].values\n",
    "Y = df_two_ave.loc[:,[\"文系平均\"]].values\n",
    "np.corrcoef(X,Y)\n",
    "df_two_ave.corr()"
   ]
  },
  {
   "cell_type": "markdown",
   "metadata": {},
   "source": [
    "相関行列として出力されています！理系平均と文系平均の相関係数は0.872と計測されています！<P>\n",
    "強い相関関係が存在すると言えそうですね。"
   ]
  },
  {
   "cell_type": "markdown",
   "metadata": {},
   "source": [
    "**コラム１**<a id='col1'></a>  \n",
    "[先頭に戻る](#top)  \n",
    "\n",
    "**大事なこと①**  \n",
    "　Pythonを使っていると、エラーにとても遭遇すると思います。画面にエラーが出力されると、かなりがっかりします。(時間をかけて書いたコードなら尚更)　そんなときに、エラーでへこたれてはいけません。プログラミングの世界では、エラーが標準装備です。そのエラーの海を何とか潜り抜け、到達したところにやっと求めるデータを見ることができます。最初のうちはエラーによく出会います。だからこそ、エラーは標準だということを胸に刻んでおくことが肝心です。  \n",
    "**大事なこと②**  \n",
    "　エラーの対処法を先に知っておくことは非常に大切です。エラーの対処法についてここで紹介します。Pythonでは、エラーが発生すると最後の行に赤い字でエラーの種類が表示されます。ここから、エラーの理由を読み取ります。スペルミスなどは、このエラー文が指摘する行まで戻ればおおよそ解決できます。また、同時にコードについても打ち間違いがないか確認しましょう。そして、エラー文の意味がそもそも分からない場合は、エラー文をコピー＆ペーストして、ネットで検索してみましょう。Qiitaなどで、先人の知恵を享受することができます。ここまででほとんどのケースが解決されると思われます。何度見返してもうまくいかない！！という時は、知り合いに聞いてみましょう。エラーの原因は、ケアレスミスの場合がほとんどなので、じっくりと見直してみましょう！"
   ]
  },
  {
   "cell_type": "markdown",
   "metadata": {},
   "source": [
    "## **第二章　Python基礎文法**<a id='sec5'></a>  \n",
    "[先頭に戻る](#top)  "
   ]
  },
  {
   "cell_type": "markdown",
   "metadata": {},
   "source": [
    "第一章お疲れ様でした。Pythonでデータをいじってみるのは面白かったですか？？少しでも、楽しんで頂けていれば嬉しいです。pandasに関しては以上となります。  "
   ]
  },
  {
   "cell_type": "markdown",
   "metadata": {},
   "source": [
    "  ここからは、Pythonの基本的な文法について学習します！Pythonは簡単な言語であるとはいっても、知っておかなければならない文法事項が多数存在します。ここでは、そのなかでも、特に重要なものに関して説明します。この資料では基礎のかなりの範囲をカバーできるように作成しています。ですので、勉強会では必要な部分だけ学習します。しかし全てとっても重要な内容ですので、時間がある時に確認していただければと思います！"
   ]
  },
  {
   "cell_type": "markdown",
   "metadata": {},
   "source": [
    "**その0**\n",
    "**基本的な計算をしてみよう！**<a id='sec5_0'></a>\n",
    "[先頭に戻る](#top)"
   ]
  },
  {
   "cell_type": "code",
   "execution_count": 34,
   "metadata": {},
   "outputs": [
    {
     "name": "stdout",
     "output_type": "stream",
     "text": [
      "4+2= 6\n",
      "4-2= 2\n",
      "4*2= 8\n",
      "4**2= 16\n",
      "4/2= 2.0\n",
      "5//2= 2\n",
      "5%2= 1\n"
     ]
    }
   ],
   "source": [
    "print(\"4+2=\",4+2)  #足し算\n",
    "print(\"4-2=\",4-2)  #引き算\n",
    "print(\"4*2=\",4*2)  #掛け算\n",
    "print(\"4**2=\",4**2)#べき乗\n",
    "print(\"4/2=\",4/2)  #割り算\n",
    "print(\"5//2=\",5//2)#割り算の商\n",
    "print(\"5%2=\",5%2)  #割り算の余り"
   ]
  },
  {
   "cell_type": "markdown",
   "metadata": {},
   "source": [
    "四則演算に関しては以上です。後でこの記号を覚えておいてください！\n",
    "次の練習問題を解いてみましょう。"
   ]
  },
  {
   "cell_type": "markdown",
   "metadata": {},
   "source": [
    "1. 17の８乗はいくつですか。 \n",
    "2. 18957を2198で割ったあまりはいくつですか。\n",
    "3. 34357 = 4189 × a + b とするとき、aとbはそれぞれいくつですか。"
   ]
  },
  {
   "cell_type": "markdown",
   "metadata": {},
   "source": [
    "**その１ データを収納する方法について学ぼう！**<a id='sec5_1'></a>  \n",
    "[先頭に戻る](#top)"
   ]
  },
  {
   "cell_type": "markdown",
   "metadata": {},
   "source": [
    "データを収納する型は４種類あります！  \n",
    "１. リスト  \n",
    "２. ディクショナリ(辞書型)  \n",
    "３. セット(集合)  \n",
    "４. タプル  \n",
    "勉強会では、リストに関して詳しく説明します！他の型に関しては、時間のある時にこの資料を読んでみてください！"
   ]
  },
  {
   "cell_type": "raw",
   "metadata": {},
   "source": [
    "#リスト [ ]\n",
    "list = [要素０,要素１,...]\n",
    "\n",
    "#ディクショナリ { }\n",
    "dictionary = {key1：値1, key2:値2,...}\n",
    "\n",
    "#セット { }\n",
    "set = {要素, 要素, ...}\n",
    "\n",
    "#タプル ( )\n",
    "tuple = (要素, 要素, ...)"
   ]
  },
  {
   "cell_type": "markdown",
   "metadata": {},
   "source": [
    "**その2 リスト型を使ってみよう！**<a id='sec5_2'></a>  \n",
    "[先頭に戻る](#top)"
   ]
  },
  {
   "cell_type": "markdown",
   "metadata": {},
   "source": [
    "　リストとは、複数の要素を自由に収納することができるシーケンス(配列)のことです。リストは要素を[ ]で囲います。  \n",
    " また、[０番目, １番目, ２番目, ...] といったように、要素は０番目からスタートすることに注意です！早速リストを作ってみましょう。  \n",
    " **シーケンス(配列)**：複数の要素をまとめて扱える型のこと"
   ]
  },
  {
   "cell_type": "code",
   "execution_count": 81,
   "metadata": {},
   "outputs": [
    {
     "data": {
      "text/plain": [
       "[1, 2, 3, 4, 5]"
      ]
     },
     "execution_count": 81,
     "metadata": {},
     "output_type": "execute_result"
    }
   ],
   "source": [
    "example_list = [1,2,3,4,5]\n",
    "example_list"
   ]
  },
  {
   "cell_type": "markdown",
   "metadata": {},
   "source": [
    "1から５の値をリストに収納しています！このリストを少しいじってみましょう。"
   ]
  },
  {
   "cell_type": "code",
   "execution_count": 82,
   "metadata": {},
   "outputs": [
    {
     "name": "stdout",
     "output_type": "stream",
     "text": [
      "0番目の要素は1\n",
      "0番目から、3番目の要素は[1, 2, 3, 4]\n",
      "3番目以降の要素は[4, 5]\n"
     ]
    }
   ],
   "source": [
    "ex_list = [1,2,3,4,5]\n",
    "\n",
    "#0番目の要素を抽出\n",
    "ex_list[0]\n",
    "\n",
    "#0番目から、3番目の要素まで抽出\n",
    "ex_list[0:4]\n",
    "\n",
    "#3番目以降の要素を抽出\n",
    "ex_list[3:]\n",
    "\n",
    "print(\"0番目の要素は\" + str(ex_list[0]))\n",
    "print(\"0番目から、3番目の要素は\" + str(ex_list[0:4]))\n",
    "print(\"3番目以降の要素は\" + str(ex_list[3:]))"
   ]
  },
  {
   "cell_type": "markdown",
   "metadata": {},
   "source": [
    "要素の抽出ができました！記号\" : \"を用いて要素を取り出す作業を、**スライス**と言います。この機会に覚えておきましょう！"
   ]
  },
  {
   "cell_type": "markdown",
   "metadata": {},
   "source": [
    "練習問題です！"
   ]
  },
  {
   "cell_type": "markdown",
   "metadata": {},
   "source": [
    "t_list = [13,18,19,11,10,17,14,15]とするとき、  \n",
    "1. 6番目の要素を抽出してください。\n",
    "2. 2番目から6番目の要素を抽出してください。\n",
    "3. 0番目から5番目の要素を抽出してください。"
   ]
  },
  {
   "cell_type": "markdown",
   "metadata": {},
   "source": [
    "もう少しリストの処理について見てみます。"
   ]
  },
  {
   "cell_type": "code",
   "execution_count": 11,
   "metadata": {},
   "outputs": [
    {
     "data": {
      "text/plain": [
       "[1, 2, 3, 4, 5]"
      ]
     },
     "execution_count": 11,
     "metadata": {},
     "output_type": "execute_result"
    }
   ],
   "source": [
    "#リストを定義\n",
    "ex_list = [1,2,3,4,5]\n",
    "ex_list"
   ]
  },
  {
   "cell_type": "code",
   "execution_count": 12,
   "metadata": {},
   "outputs": [
    {
     "name": "stdout",
     "output_type": "stream",
     "text": [
      "6\n",
      "[1, 2, 4, 5]\n"
     ]
    }
   ],
   "source": [
    "#要素同士の計算\n",
    "ex_list[3]+ex_list[1] #6\n",
    "print(ex_list[3]+ex_list[1])\n",
    "\n",
    "#要素の削除\n",
    "del ex_list[2]   #[1,2,4,5]\n",
    "print(ex_list)"
   ]
  },
  {
   "cell_type": "code",
   "execution_count": 13,
   "metadata": {},
   "outputs": [
    {
     "data": {
      "text/plain": [
       "[1, 2, 3]"
      ]
     },
     "execution_count": 13,
     "metadata": {},
     "output_type": "execute_result"
    }
   ],
   "source": [
    "#新しいリストをつくる\n",
    "ex_list1 = [1,2,3]\n",
    "ex_list1"
   ]
  },
  {
   "cell_type": "code",
   "execution_count": 14,
   "metadata": {},
   "outputs": [
    {
     "name": "stdout",
     "output_type": "stream",
     "text": [
      "[1, 2, 333]\n",
      "[1, 2, 333, 4]\n",
      "[1, 2, 333, 4, 5, 6]\n"
     ]
    }
   ],
   "source": [
    "#要素の置き換え\n",
    "ex_list1[2] = 333      #[1,2,333]\n",
    "print(ex_list1)\n",
    "\n",
    "#要素の追加\n",
    "ex_list1.append(4)     #[1,2,333,4]\n",
    "print(ex_list1)\n",
    "\n",
    "#リスト同士の足し算\n",
    "ex_list2 = [5,6]\n",
    "ex_list_new = ex_list1 + ex_list2\n",
    "\n",
    "print(ex_list_new)   #[1,2,333,4,5,6]"
   ]
  },
  {
   "cell_type": "markdown",
   "metadata": {},
   "source": [
    "要素を追加するとき、.append()という関数を使いました。このように、\".\"を用いて、\"●●.○○○\"の形で要素を取り出す方法を**メソッド**と言います。メソッドは知っていると作業を効率化でき、非常に便利なので是非覚えておきましょう！"
   ]
  },
  {
   "cell_type": "markdown",
   "metadata": {},
   "source": [
    "練習問題！！"
   ]
  },
  {
   "cell_type": "markdown",
   "metadata": {},
   "source": [
    "t_list = [13,18,19,11,10,17,14,15]とするとき、  \n",
    "1. ３番目の要素を16に置き換えてみましょう。\n",
    "2. リストに、\"20\"を追加してみましょう。\n",
    "3. (t_list) と、 (s_list = [21,22]) を足してみましょう。"
   ]
  },
  {
   "cell_type": "code",
   "execution_count": 15,
   "metadata": {},
   "outputs": [
    {
     "data": {
      "text/plain": [
       "3.0"
      ]
     },
     "execution_count": 15,
     "metadata": {},
     "output_type": "execute_result"
    }
   ],
   "source": [
    "#リストの特徴把握\n",
    "list0 = [1,2,3,4,5]\n",
    "max(list0)    #5\n",
    "min(list0)    #1\n",
    "sum(list0)    #15\n",
    "len(list0)    #5\n",
    "sum(list0)/len(list0) #3 #平均"
   ]
  },
  {
   "cell_type": "code",
   "execution_count": 16,
   "metadata": {},
   "outputs": [
    {
     "name": "stdout",
     "output_type": "stream",
     "text": [
      "min0:1 max0:5 sum0:15 len0:5 list_mean: 3.0\n"
     ]
    }
   ],
   "source": [
    "list0 = [1,2,3,4,5]\n",
    "max0 = str(max(list0))\n",
    "\n",
    "min0 = str(min(list0))\n",
    "\n",
    "sum0 = str(sum(list0))\n",
    "\n",
    "len0 = str(len(list0))\n",
    "\n",
    "list_mean = str(sum(list0)/len(list0))\n",
    "\n",
    "print(\"min0:\"+min0,\n",
    "      \"max0:\"+max0,  \n",
    "      \"sum0:\"+sum0,  \n",
    "      \"len0:\"+len0,  \n",
    "      \"list_mean: \"+list_mean)"
   ]
  },
  {
   "cell_type": "markdown",
   "metadata": {},
   "source": [
    "練習問題！！"
   ]
  },
  {
   "cell_type": "markdown",
   "metadata": {},
   "source": [
    "t_list = [13,18,19,11,10,17,14,15]とするとき、  \n",
    "最大値と平均を求めてみましょう！"
   ]
  },
  {
   "cell_type": "markdown",
   "metadata": {},
   "source": [
    "**その3 ディクショナリを作成してみよう！**<a id='sec5_3'></a>  \n",
    "[先頭に戻る](#top)"
   ]
  },
  {
   "cell_type": "markdown",
   "metadata": {},
   "source": [
    "ディクショナリは、keyと値の対応関係を収納します！そのため、順序の概念はありません。  \n",
    "例として、りょうたくんのデータを作ってみましょう！リストを勉強した時と同様に、順に確認しています。"
   ]
  },
  {
   "cell_type": "code",
   "execution_count": 40,
   "metadata": {},
   "outputs": [
    {
     "data": {
      "text/plain": [
       "{'名前': 'りょうた', '出身': '大阪', '趣味': 'サッカー'}"
      ]
     },
     "execution_count": 40,
     "metadata": {},
     "output_type": "execute_result"
    }
   ],
   "source": [
    "ex_dict = {\"名前\":\"りょうた\",\n",
    "                \"出身\":\"大阪\",\n",
    "                \"趣味\": \"サッカー\"}\n",
    "ex_dict"
   ]
  },
  {
   "cell_type": "code",
   "execution_count": 41,
   "metadata": {},
   "outputs": [
    {
     "data": {
      "text/plain": [
       "'りょうた'"
      ]
     },
     "execution_count": 41,
     "metadata": {},
     "output_type": "execute_result"
    }
   ],
   "source": [
    "#keyを指定して、値を取り出す\n",
    "ex_dict[\"名前\"]"
   ]
  },
  {
   "cell_type": "code",
   "execution_count": 42,
   "metadata": {},
   "outputs": [
    {
     "data": {
      "text/plain": [
       "{'名前': 'りょうた', '出身': '大阪', '趣味': 'サッカー', '年齢': '20'}"
      ]
     },
     "execution_count": 42,
     "metadata": {},
     "output_type": "execute_result"
    }
   ],
   "source": [
    "#要素、年齢を追加する\n",
    "ex_dict[\"年齢\"] = \"20\"\n",
    "ex_dict"
   ]
  },
  {
   "cell_type": "code",
   "execution_count": 43,
   "metadata": {},
   "outputs": [
    {
     "data": {
      "text/plain": [
       "{'名前': 'りょうた', '趣味': 'サッカー', '年齢': '20'}"
      ]
     },
     "execution_count": 43,
     "metadata": {},
     "output_type": "execute_result"
    }
   ],
   "source": [
    "#要素を削除\n",
    "del ex_dict[\"出身\"]\n",
    "ex_dict"
   ]
  },
  {
   "cell_type": "markdown",
   "metadata": {},
   "source": [
    "メソッドを用いて、効率的な作業に要素を取り出そう！！"
   ]
  },
  {
   "cell_type": "code",
   "execution_count": 45,
   "metadata": {},
   "outputs": [
    {
     "name": "stdout",
     "output_type": "stream",
     "text": [
      "dict_keys(['名前', '出身', '趣味'])\n",
      "りょうた\n",
      "dict_items([('名前', 'りょうた'), ('出身', '大阪'), ('趣味', 'サッカー')])\n",
      "dict_values(['りょうた', '大阪', 'サッカー'])\n"
     ]
    }
   ],
   "source": [
    "dic= {\"名前\":\"りょうた\",\n",
    "                \"出身\":\"大阪\",\n",
    "                \"趣味\": \"サッカー\"}\n",
    "print(dic.keys())     #全てのkeyを取り出す。\n",
    "print(dic.get(\"名前\"))#keyを指定して値を取り出す。\n",
    "print(dic.items())    #全ての要素を取り出す。\n",
    "print(dic.values())   #全ての値を取り出す。"
   ]
  },
  {
   "cell_type": "markdown",
   "metadata": {},
   "source": [
    "**その4 集合を作成してみよう！**<a id='sec5_4'></a>  \n",
    "[先頭に戻る](#top)"
   ]
  },
  {
   "cell_type": "markdown",
   "metadata": {},
   "source": [
    "集合は複数の要素が、重複しないように収納します。数学の集合と同じです！"
   ]
  },
  {
   "cell_type": "code",
   "execution_count": 71,
   "metadata": {},
   "outputs": [
    {
     "data": {
      "text/plain": [
       "{1, 2}"
      ]
     },
     "execution_count": 71,
     "metadata": {},
     "output_type": "execute_result"
    }
   ],
   "source": [
    "set1 = {1,2,3}\n",
    "set2 = {3,4,5}\n",
    "\n",
    "#和集合を求める。\n",
    "union =  set1 | set2\n",
    "union\n",
    "\n",
    "#積集合を求める\n",
    "intersection = set1 & set2 \n",
    "intersection\n",
    "\n",
    "#差集合を求める\n",
    "set_difference = set1 - set2\n",
    "set_difference"
   ]
  },
  {
   "cell_type": "markdown",
   "metadata": {},
   "source": [
    "メッソドの確認！"
   ]
  },
  {
   "cell_type": "code",
   "execution_count": 72,
   "metadata": {},
   "outputs": [
    {
     "name": "stdout",
     "output_type": "stream",
     "text": [
      "{1, 2, 3, 6}\n",
      "{1, 3, 6}\n",
      "set()\n"
     ]
    }
   ],
   "source": [
    "set1.add(6)    #要素の追加\n",
    "print(set1)\n",
    "\n",
    "set1.remove(2) #特定の要素の削除\n",
    "print(set1)\n",
    "\n",
    "set1.clear()   #要素の全削除\n",
    "print(set1)"
   ]
  },
  {
   "cell_type": "code",
   "execution_count": 74,
   "metadata": {},
   "outputs": [
    {
     "name": "stdout",
     "output_type": "stream",
     "text": [
      "5\n",
      "1\n",
      "15\n",
      "5\n",
      "3.0\n"
     ]
    }
   ],
   "source": [
    "union = {1,2,3,4,5}\n",
    "max_union = max(union) #最大値\n",
    "print(max_union)\n",
    "\n",
    "min_union = min(union) #最小値\n",
    "print(min_union)\n",
    "\n",
    "sum_union = sum(union) #合計\n",
    "print(sum_union)\n",
    "\n",
    "len_union = len(union) #要素数\n",
    "print(len_union)\n",
    "\n",
    "mean_union = sum_union/len_union #平均\n",
    "print(mean_union)\n"
   ]
  },
  {
   "cell_type": "markdown",
   "metadata": {},
   "source": [
    "**その5 タプルを作成してみよう！**<a id='sec5_5'></a>  \n",
    "[先頭に戻る](#top)"
   ]
  },
  {
   "cell_type": "markdown",
   "metadata": {},
   "source": [
    "タプルでは、複数の要素が、要素の変更ができないように収納されます。また順番の概念があります。  \n",
    "タプルは要素を( )で囲います！"
   ]
  },
  {
   "cell_type": "code",
   "execution_count": 46,
   "metadata": {},
   "outputs": [
    {
     "data": {
      "text/plain": [
       "('数学', '英語', '国語')"
      ]
     },
     "execution_count": 46,
     "metadata": {},
     "output_type": "execute_result"
    }
   ],
   "source": [
    "subject = (\"数学\",\"英語\",\"国語\")\n",
    "subject"
   ]
  },
  {
   "cell_type": "code",
   "execution_count": 47,
   "metadata": {},
   "outputs": [
    {
     "data": {
      "text/plain": [
       "'英語'"
      ]
     },
     "execution_count": 47,
     "metadata": {},
     "output_type": "execute_result"
    }
   ],
   "source": [
    "subject[1]"
   ]
  },
  {
   "cell_type": "markdown",
   "metadata": {},
   "source": [
    "## Python文法<a id='sec6'></a>"
   ]
  },
  {
   "cell_type": "markdown",
   "metadata": {},
   "source": [
    "### Python文法：for文<a id='sec6_1'></a>  \n",
    "[先頭に戻る](#top)"
   ]
  },
  {
   "cell_type": "markdown",
   "metadata": {},
   "source": [
    "for 繰り返し変数　in シーケンス:  \n",
    "    ループ内で実行するブロック"
   ]
  },
  {
   "cell_type": "code",
   "execution_count": 48,
   "metadata": {},
   "outputs": [
    {
     "name": "stdout",
     "output_type": "stream",
     "text": [
      "1\n",
      "2\n",
      "3\n",
      "4\n",
      "5\n"
     ]
    }
   ],
   "source": [
    "example_list = [1,2,3,4,5]\n",
    "for i in example_list:\n",
    "    print(i)"
   ]
  },
  {
   "cell_type": "markdown",
   "metadata": {},
   "source": [
    "\":\"の次の行は**半角空白４マス**開けて書き始めます。これを**インデント**と言います。空白の個数や、全角と半角の違いでエラーが発生しやすいので注意です！また、インデントはtabキーを押しても挿入することができます。一般に、インデントできるだけtabキーを使用しないほうがいいと言われます。稀にですが、tabキーを使うとうまくいかない場合があるので、できるだけ半角空白４マスでインデントを記述しましょう！ちなみにjupyter notebookでは、\":\"を記述すると、改行するときに自動的にインデントされます！便利ですね！！"
   ]
  },
  {
   "cell_type": "markdown",
   "metadata": {},
   "source": [
    "for文を用いて、平均、分散を求めてみましょう！ようやくプログラミングっぽいとことまで到着しました！！"
   ]
  },
  {
   "cell_type": "code",
   "execution_count": 77,
   "metadata": {},
   "outputs": [
    {
     "name": "stdout",
     "output_type": "stream",
     "text": [
      "mean=3.0 variance=2.0 standard_deviation=1.4142135623730951\n"
     ]
    }
   ],
   "source": [
    "ex_list= [1,2,3,4,5]\n",
    "\n",
    "ex_sum = sum(ex_list)\n",
    "len_list = len(ex_list)\n",
    "\n",
    "mean = ex_sum / len_list\n",
    "\n",
    "variance = 0\n",
    "\n",
    "for i in ex_list:\n",
    "    variance += (i-mean) **2\n",
    "    \n",
    "variance = variance / len_list\n",
    "\n",
    "standard_deviation = variance **0.5\n",
    "print(\"mean=\"+str(mean),\n",
    "      \"variance=\"+str(variance),\n",
    "      \"standard_deviation=\"+str(standard_deviation))"
   ]
  },
  {
   "cell_type": "markdown",
   "metadata": {},
   "source": [
    "同様に、  \n",
    "n_list = [12,41,59,73,24,45,54]  \n",
    "の平均と分散を求めてみましょう！"
   ]
  },
  {
   "cell_type": "markdown",
   "metadata": {},
   "source": [
    "ちなみにnumpyを使うと一瞬です。"
   ]
  },
  {
   "cell_type": "code",
   "execution_count": 91,
   "metadata": {},
   "outputs": [
    {
     "data": {
      "text/plain": [
       "3.0"
      ]
     },
     "execution_count": 91,
     "metadata": {},
     "output_type": "execute_result"
    }
   ],
   "source": [
    "import numpy as np\n",
    "np.mean(ex_list)\n",
    "#np.var(ex_list)\n",
    "#np.std(ex_list)"
   ]
  },
  {
   "cell_type": "markdown",
   "metadata": {},
   "source": [
    "### Python文法：range文<a id='sec6_2'></a>  \n",
    "[先頭に戻る](#top)"
   ]
  },
  {
   "cell_type": "markdown",
   "metadata": {},
   "source": [
    "決まった回数同じ試行を繰り返させたいとき、range文を使うと便利です。"
   ]
  },
  {
   "cell_type": "raw",
   "metadata": {},
   "source": [
    "#range関数の使い方\n",
    "range(start, stop, [step])"
   ]
  },
  {
   "cell_type": "code",
   "execution_count": 72,
   "metadata": {},
   "outputs": [
    {
     "name": "stdout",
     "output_type": "stream",
     "text": [
      "0\n",
      "1\n",
      "2\n",
      "3\n",
      "4\n"
     ]
    }
   ],
   "source": [
    "for i in range(5):\n",
    "    print(i)"
   ]
  },
  {
   "cell_type": "code",
   "execution_count": 106,
   "metadata": {},
   "outputs": [
    {
     "name": "stdout",
     "output_type": "stream",
     "text": [
      "3\n",
      "4\n"
     ]
    }
   ],
   "source": [
    "for i in range(3,5):\n",
    "    print(i)"
   ]
  },
  {
   "cell_type": "markdown",
   "metadata": {},
   "source": [
    "range()関数を使って、リストの作成をしてみます。"
   ]
  },
  {
   "cell_type": "code",
   "execution_count": 107,
   "metadata": {},
   "outputs": [
    {
     "data": {
      "text/plain": [
       "[1, 2, 3, 4, 5]"
      ]
     },
     "execution_count": 107,
     "metadata": {},
     "output_type": "execute_result"
    }
   ],
   "source": [
    "list(range(1,6))"
   ]
  },
  {
   "cell_type": "markdown",
   "metadata": {},
   "source": [
    "[5,4,3,2,1]となるリストを作ってみます。"
   ]
  },
  {
   "cell_type": "code",
   "execution_count": 108,
   "metadata": {},
   "outputs": [
    {
     "data": {
      "text/plain": [
       "[5, 4, 3, 2, 1]"
      ]
     },
     "execution_count": 108,
     "metadata": {},
     "output_type": "execute_result"
    }
   ],
   "source": [
    "list(range(5,0,-1))"
   ]
  },
  {
   "cell_type": "markdown",
   "metadata": {},
   "source": [
    ".reverse()メソッドを使っても、リストを反転させることができます。"
   ]
  },
  {
   "cell_type": "code",
   "execution_count": 73,
   "metadata": {},
   "outputs": [
    {
     "data": {
      "text/plain": [
       "[5, 4, 3, 2, 1]"
      ]
     },
     "execution_count": 73,
     "metadata": {},
     "output_type": "execute_result"
    }
   ],
   "source": [
    "a = list(range(1,6))\n",
    "a.reverse()\n",
    "a"
   ]
  },
  {
   "cell_type": "markdown",
   "metadata": {},
   "source": [
    "### Python文法：if文<a id='sec6_3'></a> \n",
    "[先頭に戻る](#top)"
   ]
  },
  {
   "cell_type": "markdown",
   "metadata": {},
   "source": [
    "より複雑な構造を表現してみましょう。if文を使うと、条件によって処置を変えることができます。  \n",
    "if, else, elifを駆使して素数判定プログラムを作成してみましょう！！"
   ]
  },
  {
   "cell_type": "raw",
   "metadata": {},
   "source": [
    "if 条件式:\n",
    "    実行する処理\n",
    "elif 条件式:\n",
    "    ifの条件に該当しない時、実行する処理\n",
    "else:\n",
    "    条件に該当することがない時、実行する処理"
   ]
  },
  {
   "cell_type": "code",
   "execution_count": 78,
   "metadata": {},
   "outputs": [
    {
     "name": "stdout",
     "output_type": "stream",
     "text": [
      "a and b is same!!\n"
     ]
    }
   ],
   "source": [
    "a = list(range(1,6))\n",
    "b = [1,2,3,4,5]\n",
    "if a == b:\n",
    "    print(\"a and b is same!!\")\n",
    "else:\n",
    "    print(\"a and b is NOT same!!\")"
   ]
  },
  {
   "cell_type": "code",
   "execution_count": 79,
   "metadata": {},
   "outputs": [
    {
     "name": "stdout",
     "output_type": "stream",
     "text": [
      "c and d is NOT same!!\n"
     ]
    }
   ],
   "source": [
    "c = 1\n",
    "d = 3\n",
    "if c != d:\n",
    "    print(\"c and d is NOT same!!\")\n",
    "else:\n",
    "    print(\"a and b is same!!\")"
   ]
  },
  {
   "cell_type": "markdown",
   "metadata": {},
   "source": [
    "文字列が含まれるかどうかの探索も可能です！！"
   ]
  },
  {
   "cell_type": "code",
   "execution_count": 80,
   "metadata": {},
   "outputs": [
    {
     "name": "stdout",
     "output_type": "stream",
     "text": [
      "i is included!!\n"
     ]
    }
   ],
   "source": [
    "if \"i\" in \"ajdsfakidfadf\":\n",
    "    print(\"i is included!!\")\n",
    "else:\n",
    "    print(\"i is NOT included!!\")"
   ]
  },
  {
   "cell_type": "markdown",
   "metadata": {},
   "source": [
    "**比較演算子**  \n",
    "二つの事象を比較するときは、比較演算子を用いる。  \n",
    "1. == (等しい)  \n",
    "2. != (等しくない)  \n",
    "3. <,> (小なり,大なり)  \n",
    "4. <=,>= (小なりイコール,大なりイコール)  \n",
    "5. in (含まれる)"
   ]
  },
  {
   "cell_type": "markdown",
   "metadata": {},
   "source": [
    "if文を使って、与えた整数が偶数か奇数かを判定するシステムを作ってみます。"
   ]
  },
  {
   "cell_type": "code",
   "execution_count": 82,
   "metadata": {},
   "outputs": [
    {
     "name": "stdout",
     "output_type": "stream",
     "text": [
      "iは奇数\n"
     ]
    }
   ],
   "source": [
    "i = 5\n",
    "if i % 2 == 0:\n",
    "    print(\"iは偶数\")\n",
    "else:\n",
    "    print(\"iは奇数\")"
   ]
  },
  {
   "cell_type": "markdown",
   "metadata": {},
   "source": [
    "発展：\n",
    "for文とif文を組み合わせて、０から９までの整数が偶数か奇数か判別するコードを書いてみましょう。"
   ]
  },
  {
   "cell_type": "code",
   "execution_count": 255,
   "metadata": {},
   "outputs": [
    {
     "name": "stdout",
     "output_type": "stream",
     "text": [
      "0は偶数\n",
      "1は奇数\n",
      "2は偶数\n",
      "3は奇数\n",
      "4は偶数\n",
      "5は奇数\n",
      "6は偶数\n",
      "7は奇数\n",
      "8は偶数\n",
      "9は奇数\n"
     ]
    }
   ],
   "source": [
    "for i in range(10):\n",
    "    if i % 2 == 0:\n",
    "        print(str(i) + \"は偶数\")\n",
    "    else:\n",
    "        print(str(i)+\"は奇数\")"
   ]
  },
  {
   "cell_type": "markdown",
   "metadata": {},
   "source": [
    "練習問題！！   \n",
    "1から1000の整数のうち、259の倍数を発見するコードを作ってみましょう。"
   ]
  },
  {
   "cell_type": "code",
   "execution_count": 256,
   "metadata": {},
   "outputs": [
    {
     "name": "stdout",
     "output_type": "stream",
     "text": [
      "0は259の倍数\n",
      "259は259の倍数\n",
      "518は259の倍数\n",
      "777は259の倍数\n"
     ]
    }
   ],
   "source": [
    "for i in range(1000):\n",
    "    if i % 259 == 0:\n",
    "        print(str(i) + \"は259の倍数\")"
   ]
  },
  {
   "cell_type": "code",
   "execution_count": 257,
   "metadata": {},
   "outputs": [
    {
     "name": "stdout",
     "output_type": "stream",
     "text": [
      "1は2021の約数\n",
      "43は2021の約数\n",
      "47は2021の約数\n"
     ]
    }
   ],
   "source": [
    "for i in range(1,i+1):\n",
    "    if 2021 % i == 0:\n",
    "        print(str(i)+\"は2021の約数\")"
   ]
  },
  {
   "cell_type": "markdown",
   "metadata": {},
   "source": [
    "### Python文法：def文<a id='sec6_4'></a>  \n",
    "[先頭に戻る](#top)"
   ]
  },
  {
   "cell_type": "markdown",
   "metadata": {},
   "source": [
    "def文を使うと、自分で関数を定義できるようになります！  \n",
    "これはとても便利な機能です。プログラムを書いていると、何度も同じコードを書いているな...。あとからもう今と同じ処理を使うことがありそうだな...。と思う時によく出会うと思います。そんなときに活躍するのが、def文です。def文で1度関数を作ってしまえば、同じ処理を書く必要がなくなるので、作業の効率化間違いなしです！！"
   ]
  },
  {
   "cell_type": "raw",
   "metadata": {},
   "source": [
    "def 関数名():\n",
    "    処理"
   ]
  },
  {
   "cell_type": "markdown",
   "metadata": {},
   "source": [
    "では、入力した数の約数を発見する関数を作ってみましょう。"
   ]
  },
  {
   "cell_type": "code",
   "execution_count": 258,
   "metadata": {},
   "outputs": [],
   "source": [
    "def divisor():\n",
    "    num = int(input(\"好きな数字を入力してください:\"))\n",
    "    for i in range(1,num+1):\n",
    "        if num % i == 0:\n",
    "            print(str(i)+\"は\"+str(num)+\"の約数\")"
   ]
  },
  {
   "cell_type": "code",
   "execution_count": 260,
   "metadata": {},
   "outputs": [
    {
     "name": "stdout",
     "output_type": "stream",
     "text": [
      "好きな数字を入力してください:21\n",
      "1は21の約数\n",
      "3は21の約数\n",
      "7は21の約数\n",
      "21は21の約数\n"
     ]
    }
   ],
   "source": [
    "divisor()"
   ]
  },
  {
   "cell_type": "markdown",
   "metadata": {},
   "source": [
    "<発展>素数判定プログラムを作ってみましょう！この課題は、これまでのものよりも難しいです。私も細かい調整をするのに時間がかかりました。  \n",
    "今のところできなくても全く問題ありません。すごい！！と思ってもらえたら嬉しいです。"
   ]
  },
  {
   "cell_type": "code",
   "execution_count": 261,
   "metadata": {},
   "outputs": [],
   "source": [
    "def prime():\n",
    "    num = int(input(\"好きな自然数を入力してください：\"))\n",
    "    if num < 1:\n",
    "        print(\"1以上の整数を入力してください！\")\n",
    "    if num == 1:\n",
    "        print(num,\"は素数ではありません！\")\n",
    "    if num >= 2:  \n",
    "        for i in range(2,num):\n",
    "            if num % i == 0:\n",
    "                print(num,\"は素数ではありません！\")                                                 \n",
    "                break\n",
    "        else:\n",
    "                print(num,\"は素数です！\")"
   ]
  },
  {
   "cell_type": "code",
   "execution_count": 263,
   "metadata": {},
   "outputs": [
    {
     "name": "stdout",
     "output_type": "stream",
     "text": [
      "好きな自然数を入力してください：0\n",
      "1以上の整数を入力してください！\n"
     ]
    }
   ],
   "source": [
    "prime()"
   ]
  },
  {
   "cell_type": "markdown",
   "metadata": {},
   "source": [
    "上の関数を作成するのに、"
   ]
  },
  {
   "cell_type": "code",
   "execution_count": 254,
   "metadata": {},
   "outputs": [
    {
     "name": "stdout",
     "output_type": "stream",
     "text": [
      "好きな数字を入力してください：2\n",
      "2 は素数です\n"
     ]
    }
   ],
   "source": [
    "\n",
    "a = int(input(\"好きな数字を入力してください：\"))\n",
    "if num < 1:\n",
    "    print(\"1以上の整数を入力してください！\")\n",
    "if num == 1:\n",
    "    print(num,\"は素数ではありません！\")\n",
    "if num >= 2:\n",
    "    for num in range(2,a):\n",
    "        if a % num == 0:\n",
    "            print(a, \"は素数ではありません!\")\n",
    "            break\n",
    "    else:\n",
    "        print(a,\"は素数です!\")"
   ]
  },
  {
   "cell_type": "markdown",
   "metadata": {},
   "source": [
    "### Python文法：while文<a id='sec6_5'></a>  \n",
    "[先頭に戻る](#top)"
   ]
  },
  {
   "cell_type": "markdown",
   "metadata": {},
   "source": [
    "while文を使うと、条件が真の間、実行し続けるループを作成できます。ループの便利な点は、求める処理が出るまでひたすら処理を実行してくれる点です！ "
   ]
  },
  {
   "cell_type": "raw",
   "metadata": {},
   "source": [
    "while 条件:\n",
    "    ループ内で実行する動作  "
   ]
  },
  {
   "cell_type": "markdown",
   "metadata": {},
   "source": [
    "例として、1から10までの整数のうち、2の倍数のものと3の倍数のものを発見するコードを書いてみます。"
   ]
  },
  {
   "cell_type": "code",
   "execution_count": 251,
   "metadata": {},
   "outputs": [
    {
     "name": "stdout",
     "output_type": "stream",
     "text": [
      "1\n",
      "2は2の倍数！！\n",
      "3は3の倍数！！\n",
      "4は2の倍数！！\n",
      "5\n",
      "6は2の倍数であり3の倍数！！！！\n",
      "7\n",
      "8は2の倍数！！\n",
      "9は3の倍数！！\n",
      "10は2の倍数！！\n"
     ]
    }
   ],
   "source": [
    "n = 1\n",
    "while n <= 10:\n",
    "    if n%2==0 and n%3==0:\n",
    "        print(str(n)+\"は2の倍数であり3の倍数！！！！\")\n",
    "    elif n%2 == 0:\n",
    "        print(str(n)+\"は2の倍数！！\")\n",
    "    elif n%3 == 0:\n",
    "        print(str(n)+\"は3の倍数！！\")\n",
    "    else:\n",
    "        print(n)\n",
    "    n = n+1"
   ]
  },
  {
   "cell_type": "markdown",
   "metadata": {},
   "source": [
    "うまく作動しているようですね！"
   ]
  },
  {
   "cell_type": "markdown",
   "metadata": {},
   "source": [
    "FizzBuzzとは、3の倍数のときは「Fizz」、5の倍数のときは「Buzz」、3と5の公倍数のときは「FizzBuzz」と表示するゲームのことです。  \n",
    "この問題を、while文を使ってプログラミングしてみよう！"
   ]
  },
  {
   "cell_type": "markdown",
   "metadata": {},
   "source": [
    "題材１：1から20までの数のFizzBuzzを調べる。"
   ]
  },
  {
   "cell_type": "code",
   "execution_count": 252,
   "metadata": {},
   "outputs": [
    {
     "name": "stdout",
     "output_type": "stream",
     "text": [
      "1\n",
      "2\n",
      "Fize\n",
      "4\n",
      "Buzz\n",
      "Fize\n",
      "7\n",
      "8\n",
      "Fize\n",
      "Buzz\n",
      "11\n",
      "Fize\n",
      "13\n",
      "14\n",
      "FizzBuzz\n",
      "16\n",
      "17\n",
      "Fize\n",
      "19\n",
      "Buzz\n"
     ]
    }
   ],
   "source": [
    "n = 1\n",
    "while n <= 20:\n",
    "    if n%3 == 0 and n%5 == 0:\n",
    "        print(\"FizzBuzz\")\n",
    "    elif n%3 == 0:\n",
    "        print('Fize')\n",
    "    elif n%5 == 0:\n",
    "        print('Buzz')\n",
    "    else:\n",
    "        print(n)\n",
    "    n = n + 1"
   ]
  }
 ],
 "metadata": {
  "kernelspec": {
   "display_name": "Python 3",
   "language": "python",
   "name": "python3"
  },
  "language_info": {
   "codemirror_mode": {
    "name": "ipython",
    "version": 3
   },
   "file_extension": ".py",
   "mimetype": "text/x-python",
   "name": "python",
   "nbconvert_exporter": "python",
   "pygments_lexer": "ipython3",
   "version": "3.7.6"
  }
 },
 "nbformat": 4,
 "nbformat_minor": 4
}
